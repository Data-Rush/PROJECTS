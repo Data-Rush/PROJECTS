{
  "nbformat": 4,
  "nbformat_minor": 0,
  "metadata": {
    "colab": {
      "name": "ese_bank_marketting.ipynb",
      "provenance": [],
      "collapsed_sections": [],
      "authorship_tag": "ABX9TyMc3EoD14rZb8jtNI0PESl5"
    },
    "kernelspec": {
      "name": "python3",
      "display_name": "Python 3"
    },
    "language_info": {
      "name": "python"
    }
  },
  "cells": [
    {
      "cell_type": "markdown",
      "metadata": {
        "id": "-dFDlrVzoqVw"
      },
      "source": [
        "NAME - RUSHIKESH SHAHARAO\n",
        "                             (A53)"
      ]
    },
    {
      "cell_type": "markdown",
      "metadata": {
        "id": "jMclGKa-TYrE"
      },
      "source": [
        "Predicting client will  subscribe (yes/no) to a term deposit, by building a classification model using Decision Tree."
      ]
    },
    {
      "cell_type": "code",
      "metadata": {
        "id": "AKZ0O3DQSecc"
      },
      "source": [
        "import pandas as pd\n",
        "import numpy as np\n",
        "import matplotlib.pyplot as plt\n",
        "import seaborn as sns\n",
        "from sklearn.cluster import KMeans\n",
        "from sklearn import datasets\n",
        "from io import StringIO\n",
        "from sklearn.tree import export_graphviz\n",
        "from sklearn.model_selection import train_test_split\n",
        "from sklearn import tree\n",
        "from sklearn import metrics"
      ],
      "execution_count": null,
      "outputs": []
    },
    {
      "cell_type": "code",
      "metadata": {
        "id": "Jo4Ety_sTppM"
      },
      "source": [
        "df = pd.read_csv('bank.csv')"
      ],
      "execution_count": null,
      "outputs": []
    },
    {
      "cell_type": "code",
      "metadata": {
        "colab": {
          "base_uri": "https://localhost:8080/",
          "height": 215
        },
        "id": "u1fOPA_jT28L",
        "outputId": "07d69d58-4b67-4cc1-fa9f-108ce4df4882"
      },
      "source": [
        "df.head()"
      ],
      "execution_count": null,
      "outputs": [
        {
          "output_type": "execute_result",
          "data": {
            "text/html": [
              "<div>\n",
              "<style scoped>\n",
              "    .dataframe tbody tr th:only-of-type {\n",
              "        vertical-align: middle;\n",
              "    }\n",
              "\n",
              "    .dataframe tbody tr th {\n",
              "        vertical-align: top;\n",
              "    }\n",
              "\n",
              "    .dataframe thead th {\n",
              "        text-align: right;\n",
              "    }\n",
              "</style>\n",
              "<table border=\"1\" class=\"dataframe\">\n",
              "  <thead>\n",
              "    <tr style=\"text-align: right;\">\n",
              "      <th></th>\n",
              "      <th>age</th>\n",
              "      <th>job</th>\n",
              "      <th>marital</th>\n",
              "      <th>education</th>\n",
              "      <th>default</th>\n",
              "      <th>balance</th>\n",
              "      <th>housing</th>\n",
              "      <th>loan</th>\n",
              "      <th>contact</th>\n",
              "      <th>day</th>\n",
              "      <th>month</th>\n",
              "      <th>duration</th>\n",
              "      <th>campaign</th>\n",
              "      <th>pdays</th>\n",
              "      <th>previous</th>\n",
              "      <th>poutcome</th>\n",
              "      <th>deposit</th>\n",
              "    </tr>\n",
              "  </thead>\n",
              "  <tbody>\n",
              "    <tr>\n",
              "      <th>0</th>\n",
              "      <td>59</td>\n",
              "      <td>admin.</td>\n",
              "      <td>married</td>\n",
              "      <td>secondary</td>\n",
              "      <td>no</td>\n",
              "      <td>2343</td>\n",
              "      <td>yes</td>\n",
              "      <td>no</td>\n",
              "      <td>unknown</td>\n",
              "      <td>5</td>\n",
              "      <td>may</td>\n",
              "      <td>1042</td>\n",
              "      <td>1</td>\n",
              "      <td>-1</td>\n",
              "      <td>0</td>\n",
              "      <td>unknown</td>\n",
              "      <td>yes</td>\n",
              "    </tr>\n",
              "    <tr>\n",
              "      <th>1</th>\n",
              "      <td>56</td>\n",
              "      <td>admin.</td>\n",
              "      <td>married</td>\n",
              "      <td>secondary</td>\n",
              "      <td>no</td>\n",
              "      <td>45</td>\n",
              "      <td>no</td>\n",
              "      <td>no</td>\n",
              "      <td>unknown</td>\n",
              "      <td>5</td>\n",
              "      <td>may</td>\n",
              "      <td>1467</td>\n",
              "      <td>1</td>\n",
              "      <td>-1</td>\n",
              "      <td>0</td>\n",
              "      <td>unknown</td>\n",
              "      <td>yes</td>\n",
              "    </tr>\n",
              "    <tr>\n",
              "      <th>2</th>\n",
              "      <td>41</td>\n",
              "      <td>technician</td>\n",
              "      <td>married</td>\n",
              "      <td>secondary</td>\n",
              "      <td>no</td>\n",
              "      <td>1270</td>\n",
              "      <td>yes</td>\n",
              "      <td>no</td>\n",
              "      <td>unknown</td>\n",
              "      <td>5</td>\n",
              "      <td>may</td>\n",
              "      <td>1389</td>\n",
              "      <td>1</td>\n",
              "      <td>-1</td>\n",
              "      <td>0</td>\n",
              "      <td>unknown</td>\n",
              "      <td>yes</td>\n",
              "    </tr>\n",
              "    <tr>\n",
              "      <th>3</th>\n",
              "      <td>55</td>\n",
              "      <td>services</td>\n",
              "      <td>married</td>\n",
              "      <td>secondary</td>\n",
              "      <td>no</td>\n",
              "      <td>2476</td>\n",
              "      <td>yes</td>\n",
              "      <td>no</td>\n",
              "      <td>unknown</td>\n",
              "      <td>5</td>\n",
              "      <td>may</td>\n",
              "      <td>579</td>\n",
              "      <td>1</td>\n",
              "      <td>-1</td>\n",
              "      <td>0</td>\n",
              "      <td>unknown</td>\n",
              "      <td>yes</td>\n",
              "    </tr>\n",
              "    <tr>\n",
              "      <th>4</th>\n",
              "      <td>54</td>\n",
              "      <td>admin.</td>\n",
              "      <td>married</td>\n",
              "      <td>tertiary</td>\n",
              "      <td>no</td>\n",
              "      <td>184</td>\n",
              "      <td>no</td>\n",
              "      <td>no</td>\n",
              "      <td>unknown</td>\n",
              "      <td>5</td>\n",
              "      <td>may</td>\n",
              "      <td>673</td>\n",
              "      <td>2</td>\n",
              "      <td>-1</td>\n",
              "      <td>0</td>\n",
              "      <td>unknown</td>\n",
              "      <td>yes</td>\n",
              "    </tr>\n",
              "  </tbody>\n",
              "</table>\n",
              "</div>"
            ],
            "text/plain": [
              "   age         job  marital  education  ... pdays  previous poutcome deposit\n",
              "0   59      admin.  married  secondary  ...    -1         0  unknown     yes\n",
              "1   56      admin.  married  secondary  ...    -1         0  unknown     yes\n",
              "2   41  technician  married  secondary  ...    -1         0  unknown     yes\n",
              "3   55    services  married  secondary  ...    -1         0  unknown     yes\n",
              "4   54      admin.  married   tertiary  ...    -1         0  unknown     yes\n",
              "\n",
              "[5 rows x 17 columns]"
            ]
          },
          "metadata": {
            "tags": []
          },
          "execution_count": 52
        }
      ]
    },
    {
      "cell_type": "code",
      "metadata": {
        "colab": {
          "base_uri": "https://localhost:8080/"
        },
        "id": "ws3vIhz9cBrZ",
        "outputId": "24df0dd5-99ef-40ee-fbd8-fe674a84c25f"
      },
      "source": [
        "df[df.isnull().any(axis=1)].count()"
      ],
      "execution_count": null,
      "outputs": [
        {
          "output_type": "execute_result",
          "data": {
            "text/plain": [
              "age          0\n",
              "job          0\n",
              "marital      0\n",
              "education    0\n",
              "default      0\n",
              "balance      0\n",
              "housing      0\n",
              "loan         0\n",
              "contact      0\n",
              "day          0\n",
              "month        0\n",
              "duration     0\n",
              "campaign     0\n",
              "pdays        0\n",
              "previous     0\n",
              "poutcome     0\n",
              "deposit      0\n",
              "dtype: int64"
            ]
          },
          "metadata": {
            "tags": []
          },
          "execution_count": 53
        }
      ]
    },
    {
      "cell_type": "code",
      "metadata": {
        "colab": {
          "base_uri": "https://localhost:8080/",
          "height": 279
        },
        "id": "ZC_I2CEFUsN6",
        "outputId": "678e4575-c2fe-4c20-ca8d-c66ab3e0cc1f"
      },
      "source": [
        "g = sns.boxplot(x=df[\"age\"])"
      ],
      "execution_count": null,
      "outputs": [
        {
          "output_type": "display_data",
          "data": {
            "image/png": "[encoded data removed]",
            "text/plain": [
              "<Figure size 432x288 with 1 Axes>"
            ]
          },
          "metadata": {
            "tags": [],
            "needs_background": "light"
          }
        }
      ]
    },
    {
      "cell_type": "code",
      "metadata": {
        "colab": {
          "base_uri": "https://localhost:8080/",
          "height": 351
        },
        "id": "98ihZ2XucJlh",
        "outputId": "7a51cc2f-3a0c-4be1-974c-a2ec01fc5037"
      },
      "source": [
        "sns.distplot(df.age, bins=100)"
      ],
      "execution_count": null,
      "outputs": [
        {
          "output_type": "stream",
          "text": [
            "/usr/local/lib/python3.7/dist-packages/seaborn/distributions.py:2557: FutureWarning: `distplot` is a deprecated function and will be removed in a future version. Please adapt your code to use either `displot` (a figure-level function with similar flexibility) or `histplot` (an axes-level function for histograms).\n",
            "  warnings.warn(msg, FutureWarning)\n"
          ],
          "name": "stderr"
        },
        {
          "output_type": "execute_result",
          "data": {
            "text/plain": [
              "<matplotlib.axes._subplots.AxesSubplot at 0x7f181c7e8610>"
            ]
          },
          "metadata": {
            "tags": []
          },
          "execution_count": 55
        },
        {
          "output_type": "display_data",
          "data": {
            "image/png": "[encoded data removed]",
            "text/plain": [
              "<Figure size 432x288 with 1 Axes>"
            ]
          },
          "metadata": {
            "tags": [],
            "needs_background": "light"
          }
        }
      ]
    },
    {
      "cell_type": "code",
      "metadata": {
        "colab": {
          "base_uri": "https://localhost:8080/",
          "height": 279
        },
        "id": "18tR528vcNFx",
        "outputId": "ba80890f-1ca1-4720-d6f8-0c272e811ebe"
      },
      "source": [
        "g = sns.boxplot(x=df[\"duration\"])"
      ],
      "execution_count": null,
      "outputs": [
        {
          "output_type": "display_data",
          "data": {
            "image/png": "[encoded data removed]",
            "text/plain": [
              "<Figure size 432x288 with 1 Axes>"
            ]
          },
          "metadata": {
            "tags": [],
            "needs_background": "light"
          }
        }
      ]
    },
    {
      "cell_type": "code",
      "metadata": {
        "colab": {
          "base_uri": "https://localhost:8080/",
          "height": 350
        },
        "id": "vJ6HfP_TcS53",
        "outputId": "a4d3d7e2-90dc-4ae8-9852-a8152cbefab4"
      },
      "source": [
        "sns.distplot(df.duration, bins=100)"
      ],
      "execution_count": null,
      "outputs": [
        {
          "output_type": "stream",
          "text": [
            "/usr/local/lib/python3.7/dist-packages/seaborn/distributions.py:2557: FutureWarning: `distplot` is a deprecated function and will be removed in a future version. Please adapt your code to use either `displot` (a figure-level function with similar flexibility) or `histplot` (an axes-level function for histograms).\n",
            "  warnings.warn(msg, FutureWarning)\n"
          ],
          "name": "stderr"
        },
        {
          "output_type": "execute_result",
          "data": {
            "text/plain": [
              "<matplotlib.axes._subplots.AxesSubplot at 0x7f181c57c950>"
            ]
          },
          "metadata": {
            "tags": []
          },
          "execution_count": 57
        },
        {
          "output_type": "display_data",
          "data": {
            "image/png": "[encoded data removed]",
            "text/plain": [
              "<Figure size 432x288 with 1 Axes>"
            ]
          },
          "metadata": {
            "tags": [],
            "needs_background": "light"
          }
        }
      ]
    },
    {
      "cell_type": "markdown",
      "metadata": {
        "id": "rMQVQ1Docly6"
      },
      "source": [
        "converting categorical data"
      ]
    },
    {
      "cell_type": "code",
      "metadata": {
        "id": "t-APXIWGcZ-O"
      },
      "source": [
        "bank_data = df.copy()     ## making copy for parsing"
      ],
      "execution_count": null,
      "outputs": []
    },
    {
      "cell_type": "code",
      "metadata": {
        "colab": {
          "base_uri": "https://localhost:8080/"
        },
        "id": "e4fBrVxTcraH",
        "outputId": "9aff8341-60ed-4ea3-eba3-293bcf5d5f36"
      },
      "source": [
        "# Explore People who made a deposit Vs Job category\n",
        "jobs = ['management','blue-collar','technician','admin.','services','retired','self-employed','student',\\\n",
        "        'unemployed','entrepreneur','housemaid','unknown']\n",
        "\n",
        "for j in jobs:\n",
        "    print(\"{:15} : {:5}\". format(j, len(bank_data[(bank_data.deposit == \"yes\") & (bank_data.job ==j)])))"
      ],
      "execution_count": null,
      "outputs": [
        {
          "output_type": "stream",
          "text": [
            "management      :  1301\n",
            "blue-collar     :   708\n",
            "technician      :   840\n",
            "admin.          :   631\n",
            "services        :   369\n",
            "retired         :   516\n",
            "self-employed   :   187\n",
            "student         :   269\n",
            "unemployed      :   202\n",
            "entrepreneur    :   123\n",
            "housemaid       :   109\n",
            "unknown         :    34\n"
          ],
          "name": "stdout"
        }
      ]
    },
    {
      "cell_type": "code",
      "metadata": {
        "colab": {
          "base_uri": "https://localhost:8080/"
        },
        "id": "VQ5Q83zvc1tL",
        "outputId": "0d8b841c-f813-4dcc-b3d5-5da77cd35982"
      },
      "source": [
        "bank_data.job.value_counts()    ## job types and counts"
      ],
      "execution_count": null,
      "outputs": [
        {
          "output_type": "execute_result",
          "data": {
            "text/plain": [
              "management       2566\n",
              "blue-collar      1944\n",
              "technician       1823\n",
              "admin.           1334\n",
              "services          923\n",
              "retired           778\n",
              "self-employed     405\n",
              "student           360\n",
              "unemployed        357\n",
              "entrepreneur      328\n",
              "housemaid         274\n",
              "unknown            70\n",
              "Name: job, dtype: int64"
            ]
          },
          "metadata": {
            "tags": []
          },
          "execution_count": 60
        }
      ]
    },
    {
      "cell_type": "code",
      "metadata": {
        "id": "bGGKvOkCc-NM"
      },
      "source": [
        "# Combine similar jobs into categiroes\n",
        "bank_data['job'] = bank_data['job'].replace(['management', 'admin.'], 'white-collar')\n",
        "bank_data['job'] = bank_data['job'].replace(['services','housemaid'], 'pink-collar')\n",
        "bank_data['job'] = bank_data['job'].replace(['retired', 'student', 'unemployed', 'unknown'], 'other')"
      ],
      "execution_count": null,
      "outputs": []
    },
    {
      "cell_type": "code",
      "metadata": {
        "colab": {
          "base_uri": "https://localhost:8080/"
        },
        "id": "9BlifjT5dF57",
        "outputId": "21e4c456-daff-4d4c-f203-cba8f81518fe"
      },
      "source": [
        "bank_data.job.value_counts()   ##new category count"
      ],
      "execution_count": null,
      "outputs": [
        {
          "output_type": "execute_result",
          "data": {
            "text/plain": [
              "white-collar     3900\n",
              "blue-collar      1944\n",
              "technician       1823\n",
              "other            1565\n",
              "pink-collar      1197\n",
              "self-employed     405\n",
              "entrepreneur      328\n",
              "Name: job, dtype: int64"
            ]
          },
          "metadata": {
            "tags": []
          },
          "execution_count": 62
        }
      ]
    },
    {
      "cell_type": "code",
      "metadata": {
        "colab": {
          "base_uri": "https://localhost:8080/"
        },
        "id": "Xh1KAKLddMul",
        "outputId": "b620b1b0-7752-46d5-bb35-43c02f147a2a"
      },
      "source": [
        "bank_data.poutcome.value_counts()"
      ],
      "execution_count": null,
      "outputs": [
        {
          "output_type": "execute_result",
          "data": {
            "text/plain": [
              "unknown    8326\n",
              "failure    1228\n",
              "success    1071\n",
              "other       537\n",
              "Name: poutcome, dtype: int64"
            ]
          },
          "metadata": {
            "tags": []
          },
          "execution_count": 63
        }
      ]
    },
    {
      "cell_type": "code",
      "metadata": {
        "colab": {
          "base_uri": "https://localhost:8080/"
        },
        "id": "DyAFEH5pdbkx",
        "outputId": "f3f344b5-c5e8-4d70-eb83-410dc34800a4"
      },
      "source": [
        "bank_data['poutcome'] = bank_data['poutcome'].replace(['other'] , 'unknown')\n",
        "bank_data.poutcome.value_counts()"
      ],
      "execution_count": null,
      "outputs": [
        {
          "output_type": "execute_result",
          "data": {
            "text/plain": [
              "unknown    8863\n",
              "failure    1228\n",
              "success    1071\n",
              "Name: poutcome, dtype: int64"
            ]
          },
          "metadata": {
            "tags": []
          },
          "execution_count": 64
        }
      ]
    },
    {
      "cell_type": "code",
      "metadata": {
        "id": "8wkg7SwNdhiW"
      },
      "source": [
        "bank_data.drop('contact', axis=1, inplace=True)"
      ],
      "execution_count": null,
      "outputs": []
    },
    {
      "cell_type": "code",
      "metadata": {
        "id": "Ci7aTj5ddmsh"
      },
      "source": [
        "bank_data[\"default\"]\n",
        "bank_data['default_cat'] = bank_data['default'].map( {'yes':1, 'no':0} )\n",
        "bank_data.drop('default', axis=1,inplace = True)"
      ],
      "execution_count": null,
      "outputs": []
    },
    {
      "cell_type": "code",
      "metadata": {
        "id": "GTNg8s4Odqk5"
      },
      "source": [
        "bank_data[\"housing_cat\"]=bank_data['housing'].map({'yes':1, 'no':0})\n",
        "bank_data.drop('housing', axis=1,inplace = True)"
      ],
      "execution_count": null,
      "outputs": []
    },
    {
      "cell_type": "code",
      "metadata": {
        "id": "_w4X6uz_dxc7"
      },
      "source": [
        "bank_data[\"loan_cat\"] = bank_data['loan'].map({'yes':1, 'no':0})\n",
        "bank_data.drop('loan', axis=1, inplace=True)"
      ],
      "execution_count": null,
      "outputs": []
    },
    {
      "cell_type": "code",
      "metadata": {
        "id": "cXx4WQOud0Lo"
      },
      "source": [
        "bank_data.drop('month', axis=1, inplace=True)\n",
        "bank_data.drop('day', axis=1, inplace=True)"
      ],
      "execution_count": null,
      "outputs": []
    },
    {
      "cell_type": "code",
      "metadata": {
        "id": "Cw0-VBBjd7gl"
      },
      "source": [
        "bank_data[\"deposit_cat\"] = bank_data['deposit'].map({'yes':1, 'no':0})\n",
        "bank_data.drop('deposit', axis=1, inplace=True)"
      ],
      "execution_count": null,
      "outputs": []
    },
    {
      "cell_type": "code",
      "metadata": {
        "colab": {
          "base_uri": "https://localhost:8080/"
        },
        "id": "GDGe_RQjeAKC",
        "outputId": "cc10157f-255a-4ed4-95b9-c4db1b43958c"
      },
      "source": [
        "print(\"Customers that have not been contacted before:\", len(bank_data[bank_data.pdays==-1]))\n",
        "print(\"Maximum values on padys    :\", bank_data['pdays'].max())"
      ],
      "execution_count": null,
      "outputs": [
        {
          "output_type": "stream",
          "text": [
            "Customers that have not been contacted before: 8324\n",
            "Maximum values on padys    : 854\n"
          ],
          "name": "stdout"
        }
      ]
    },
    {
      "cell_type": "code",
      "metadata": {
        "id": "3BzPDVuCeGZp"
      },
      "source": [
        "# Map padys=-1 into a large value (10000 is used) to indicate that it is so far in the past that it has no effect\n",
        "bank_data.loc[bank_data['pdays'] == -1, 'pdays'] = 10000"
      ],
      "execution_count": null,
      "outputs": []
    },
    {
      "cell_type": "code",
      "metadata": {
        "id": "ZLilI9d2eOrx"
      },
      "source": [
        "# Create a new column: recent_pdays \n",
        "bank_data['recent_pdays'] = np.where(bank_data['pdays'], 1/bank_data.pdays, 1/bank_data.pdays)\n",
        "\n",
        "# Drop 'pdays'\n",
        "bank_data.drop('pdays', axis=1, inplace = True)"
      ],
      "execution_count": null,
      "outputs": []
    },
    {
      "cell_type": "code",
      "metadata": {
        "colab": {
          "base_uri": "https://localhost:8080/",
          "height": 249
        },
        "id": "BqAzk2jreTbo",
        "outputId": "c99222fb-3e64-427e-a65d-63bf5eba9464"
      },
      "source": [
        "bank_data.tail()"
      ],
      "execution_count": null,
      "outputs": [
        {
          "output_type": "execute_result",
          "data": {
            "text/html": [
              "<div>\n",
              "<style scoped>\n",
              "    .dataframe tbody tr th:only-of-type {\n",
              "        vertical-align: middle;\n",
              "    }\n",
              "\n",
              "    .dataframe tbody tr th {\n",
              "        vertical-align: top;\n",
              "    }\n",
              "\n",
              "    .dataframe thead th {\n",
              "        text-align: right;\n",
              "    }\n",
              "</style>\n",
              "<table border=\"1\" class=\"dataframe\">\n",
              "  <thead>\n",
              "    <tr style=\"text-align: right;\">\n",
              "      <th></th>\n",
              "      <th>age</th>\n",
              "      <th>job</th>\n",
              "      <th>marital</th>\n",
              "      <th>education</th>\n",
              "      <th>balance</th>\n",
              "      <th>duration</th>\n",
              "      <th>campaign</th>\n",
              "      <th>previous</th>\n",
              "      <th>poutcome</th>\n",
              "      <th>default_cat</th>\n",
              "      <th>housing_cat</th>\n",
              "      <th>loan_cat</th>\n",
              "      <th>deposit_cat</th>\n",
              "      <th>recent_pdays</th>\n",
              "    </tr>\n",
              "  </thead>\n",
              "  <tbody>\n",
              "    <tr>\n",
              "      <th>11157</th>\n",
              "      <td>33</td>\n",
              "      <td>blue-collar</td>\n",
              "      <td>single</td>\n",
              "      <td>primary</td>\n",
              "      <td>1</td>\n",
              "      <td>257</td>\n",
              "      <td>1</td>\n",
              "      <td>0</td>\n",
              "      <td>unknown</td>\n",
              "      <td>0</td>\n",
              "      <td>1</td>\n",
              "      <td>0</td>\n",
              "      <td>0</td>\n",
              "      <td>0.000100</td>\n",
              "    </tr>\n",
              "    <tr>\n",
              "      <th>11158</th>\n",
              "      <td>39</td>\n",
              "      <td>pink-collar</td>\n",
              "      <td>married</td>\n",
              "      <td>secondary</td>\n",
              "      <td>733</td>\n",
              "      <td>83</td>\n",
              "      <td>4</td>\n",
              "      <td>0</td>\n",
              "      <td>unknown</td>\n",
              "      <td>0</td>\n",
              "      <td>0</td>\n",
              "      <td>0</td>\n",
              "      <td>0</td>\n",
              "      <td>0.000100</td>\n",
              "    </tr>\n",
              "    <tr>\n",
              "      <th>11159</th>\n",
              "      <td>32</td>\n",
              "      <td>technician</td>\n",
              "      <td>single</td>\n",
              "      <td>secondary</td>\n",
              "      <td>29</td>\n",
              "      <td>156</td>\n",
              "      <td>2</td>\n",
              "      <td>0</td>\n",
              "      <td>unknown</td>\n",
              "      <td>0</td>\n",
              "      <td>0</td>\n",
              "      <td>0</td>\n",
              "      <td>0</td>\n",
              "      <td>0.000100</td>\n",
              "    </tr>\n",
              "    <tr>\n",
              "      <th>11160</th>\n",
              "      <td>43</td>\n",
              "      <td>technician</td>\n",
              "      <td>married</td>\n",
              "      <td>secondary</td>\n",
              "      <td>0</td>\n",
              "      <td>9</td>\n",
              "      <td>2</td>\n",
              "      <td>5</td>\n",
              "      <td>failure</td>\n",
              "      <td>0</td>\n",
              "      <td>0</td>\n",
              "      <td>1</td>\n",
              "      <td>0</td>\n",
              "      <td>0.005814</td>\n",
              "    </tr>\n",
              "    <tr>\n",
              "      <th>11161</th>\n",
              "      <td>34</td>\n",
              "      <td>technician</td>\n",
              "      <td>married</td>\n",
              "      <td>secondary</td>\n",
              "      <td>0</td>\n",
              "      <td>628</td>\n",
              "      <td>1</td>\n",
              "      <td>0</td>\n",
              "      <td>unknown</td>\n",
              "      <td>0</td>\n",
              "      <td>0</td>\n",
              "      <td>0</td>\n",
              "      <td>0</td>\n",
              "      <td>0.000100</td>\n",
              "    </tr>\n",
              "  </tbody>\n",
              "</table>\n",
              "</div>"
            ],
            "text/plain": [
              "       age          job  marital  ... loan_cat  deposit_cat  recent_pdays\n",
              "11157   33  blue-collar   single  ...        0            0      0.000100\n",
              "11158   39  pink-collar  married  ...        0            0      0.000100\n",
              "11159   32   technician   single  ...        0            0      0.000100\n",
              "11160   43   technician  married  ...        1            0      0.005814\n",
              "11161   34   technician  married  ...        0            0      0.000100\n",
              "\n",
              "[5 rows x 14 columns]"
            ]
          },
          "metadata": {
            "tags": []
          },
          "execution_count": 74
        }
      ]
    },
    {
      "cell_type": "code",
      "metadata": {
        "colab": {
          "base_uri": "https://localhost:8080/",
          "height": 232
        },
        "id": "kK1KbzeteW9m",
        "outputId": "e0aaac52-eb5e-4066-e26a-537502a51d9e"
      },
      "source": [
        "# Convert categorical variables to dummies\n",
        "bank_with_dummies = pd.get_dummies(data=bank_data, columns = ['job', 'marital', 'education', 'poutcome'], \\\n",
        "                                   prefix = ['job', 'marital', 'education', 'poutcome'])\n",
        "bank_with_dummies.head()"
      ],
      "execution_count": null,
      "outputs": [
        {
          "output_type": "execute_result",
          "data": {
            "text/html": [
              "<div>\n",
              "<style scoped>\n",
              "    .dataframe tbody tr th:only-of-type {\n",
              "        vertical-align: middle;\n",
              "    }\n",
              "\n",
              "    .dataframe tbody tr th {\n",
              "        vertical-align: top;\n",
              "    }\n",
              "\n",
              "    .dataframe thead th {\n",
              "        text-align: right;\n",
              "    }\n",
              "</style>\n",
              "<table border=\"1\" class=\"dataframe\">\n",
              "  <thead>\n",
              "    <tr style=\"text-align: right;\">\n",
              "      <th></th>\n",
              "      <th>age</th>\n",
              "      <th>balance</th>\n",
              "      <th>duration</th>\n",
              "      <th>campaign</th>\n",
              "      <th>previous</th>\n",
              "      <th>default_cat</th>\n",
              "      <th>housing_cat</th>\n",
              "      <th>loan_cat</th>\n",
              "      <th>deposit_cat</th>\n",
              "      <th>recent_pdays</th>\n",
              "      <th>job_blue-collar</th>\n",
              "      <th>job_entrepreneur</th>\n",
              "      <th>job_other</th>\n",
              "      <th>job_pink-collar</th>\n",
              "      <th>job_self-employed</th>\n",
              "      <th>job_technician</th>\n",
              "      <th>job_white-collar</th>\n",
              "      <th>marital_divorced</th>\n",
              "      <th>marital_married</th>\n",
              "      <th>marital_single</th>\n",
              "      <th>education_primary</th>\n",
              "      <th>education_secondary</th>\n",
              "      <th>education_tertiary</th>\n",
              "      <th>education_unknown</th>\n",
              "      <th>poutcome_failure</th>\n",
              "      <th>poutcome_success</th>\n",
              "      <th>poutcome_unknown</th>\n",
              "    </tr>\n",
              "  </thead>\n",
              "  <tbody>\n",
              "    <tr>\n",
              "      <th>0</th>\n",
              "      <td>59</td>\n",
              "      <td>2343</td>\n",
              "      <td>1042</td>\n",
              "      <td>1</td>\n",
              "      <td>0</td>\n",
              "      <td>0</td>\n",
              "      <td>1</td>\n",
              "      <td>0</td>\n",
              "      <td>1</td>\n",
              "      <td>0.0001</td>\n",
              "      <td>0</td>\n",
              "      <td>0</td>\n",
              "      <td>0</td>\n",
              "      <td>0</td>\n",
              "      <td>0</td>\n",
              "      <td>0</td>\n",
              "      <td>1</td>\n",
              "      <td>0</td>\n",
              "      <td>1</td>\n",
              "      <td>0</td>\n",
              "      <td>0</td>\n",
              "      <td>1</td>\n",
              "      <td>0</td>\n",
              "      <td>0</td>\n",
              "      <td>0</td>\n",
              "      <td>0</td>\n",
              "      <td>1</td>\n",
              "    </tr>\n",
              "    <tr>\n",
              "      <th>1</th>\n",
              "      <td>56</td>\n",
              "      <td>45</td>\n",
              "      <td>1467</td>\n",
              "      <td>1</td>\n",
              "      <td>0</td>\n",
              "      <td>0</td>\n",
              "      <td>0</td>\n",
              "      <td>0</td>\n",
              "      <td>1</td>\n",
              "      <td>0.0001</td>\n",
              "      <td>0</td>\n",
              "      <td>0</td>\n",
              "      <td>0</td>\n",
              "      <td>0</td>\n",
              "      <td>0</td>\n",
              "      <td>0</td>\n",
              "      <td>1</td>\n",
              "      <td>0</td>\n",
              "      <td>1</td>\n",
              "      <td>0</td>\n",
              "      <td>0</td>\n",
              "      <td>1</td>\n",
              "      <td>0</td>\n",
              "      <td>0</td>\n",
              "      <td>0</td>\n",
              "      <td>0</td>\n",
              "      <td>1</td>\n",
              "    </tr>\n",
              "    <tr>\n",
              "      <th>2</th>\n",
              "      <td>41</td>\n",
              "      <td>1270</td>\n",
              "      <td>1389</td>\n",
              "      <td>1</td>\n",
              "      <td>0</td>\n",
              "      <td>0</td>\n",
              "      <td>1</td>\n",
              "      <td>0</td>\n",
              "      <td>1</td>\n",
              "      <td>0.0001</td>\n",
              "      <td>0</td>\n",
              "      <td>0</td>\n",
              "      <td>0</td>\n",
              "      <td>0</td>\n",
              "      <td>0</td>\n",
              "      <td>1</td>\n",
              "      <td>0</td>\n",
              "      <td>0</td>\n",
              "      <td>1</td>\n",
              "      <td>0</td>\n",
              "      <td>0</td>\n",
              "      <td>1</td>\n",
              "      <td>0</td>\n",
              "      <td>0</td>\n",
              "      <td>0</td>\n",
              "      <td>0</td>\n",
              "      <td>1</td>\n",
              "    </tr>\n",
              "    <tr>\n",
              "      <th>3</th>\n",
              "      <td>55</td>\n",
              "      <td>2476</td>\n",
              "      <td>579</td>\n",
              "      <td>1</td>\n",
              "      <td>0</td>\n",
              "      <td>0</td>\n",
              "      <td>1</td>\n",
              "      <td>0</td>\n",
              "      <td>1</td>\n",
              "      <td>0.0001</td>\n",
              "      <td>0</td>\n",
              "      <td>0</td>\n",
              "      <td>0</td>\n",
              "      <td>1</td>\n",
              "      <td>0</td>\n",
              "      <td>0</td>\n",
              "      <td>0</td>\n",
              "      <td>0</td>\n",
              "      <td>1</td>\n",
              "      <td>0</td>\n",
              "      <td>0</td>\n",
              "      <td>1</td>\n",
              "      <td>0</td>\n",
              "      <td>0</td>\n",
              "      <td>0</td>\n",
              "      <td>0</td>\n",
              "      <td>1</td>\n",
              "    </tr>\n",
              "    <tr>\n",
              "      <th>4</th>\n",
              "      <td>54</td>\n",
              "      <td>184</td>\n",
              "      <td>673</td>\n",
              "      <td>2</td>\n",
              "      <td>0</td>\n",
              "      <td>0</td>\n",
              "      <td>0</td>\n",
              "      <td>0</td>\n",
              "      <td>1</td>\n",
              "      <td>0.0001</td>\n",
              "      <td>0</td>\n",
              "      <td>0</td>\n",
              "      <td>0</td>\n",
              "      <td>0</td>\n",
              "      <td>0</td>\n",
              "      <td>0</td>\n",
              "      <td>1</td>\n",
              "      <td>0</td>\n",
              "      <td>1</td>\n",
              "      <td>0</td>\n",
              "      <td>0</td>\n",
              "      <td>0</td>\n",
              "      <td>1</td>\n",
              "      <td>0</td>\n",
              "      <td>0</td>\n",
              "      <td>0</td>\n",
              "      <td>1</td>\n",
              "    </tr>\n",
              "  </tbody>\n",
              "</table>\n",
              "</div>"
            ],
            "text/plain": [
              "   age  balance  duration  ...  poutcome_failure  poutcome_success  poutcome_unknown\n",
              "0   59     2343      1042  ...                 0                 0                 1\n",
              "1   56       45      1467  ...                 0                 0                 1\n",
              "2   41     1270      1389  ...                 0                 0                 1\n",
              "3   55     2476       579  ...                 0                 0                 1\n",
              "4   54      184       673  ...                 0                 0                 1\n",
              "\n",
              "[5 rows x 27 columns]"
            ]
          },
          "metadata": {
            "tags": []
          },
          "execution_count": 75
        }
      ]
    },
    {
      "cell_type": "code",
      "metadata": {
        "colab": {
          "base_uri": "https://localhost:8080/"
        },
        "id": "Agx9-znAea7u",
        "outputId": "6560b853-717e-48f9-9b1d-19e8c7ceb6d9"
      },
      "source": [
        "bank_with_dummies.shape"
      ],
      "execution_count": null,
      "outputs": [
        {
          "output_type": "execute_result",
          "data": {
            "text/plain": [
              "(11162, 27)"
            ]
          },
          "metadata": {
            "tags": []
          },
          "execution_count": 76
        }
      ]
    },
    {
      "cell_type": "code",
      "metadata": {
        "colab": {
          "base_uri": "https://localhost:8080/",
          "height": 279
        },
        "id": "bR5K19N-eeVx",
        "outputId": "5a0e8c95-f6c8-4b7e-bc37-0ca914937780"
      },
      "source": [
        "bank_with_dummies.plot(kind='scatter', x='age', y='balance');   ##checking savings"
      ],
      "execution_count": null,
      "outputs": [
        {
          "output_type": "display_data",
          "data": {
            "image/png": "[encoded data removed]",
            "text/plain": [
              "<Figure size 432x288 with 1 Axes>"
            ]
          },
          "metadata": {
            "tags": [],
            "needs_background": "light"
          }
        }
      ]
    },
    {
      "cell_type": "code",
      "metadata": {
        "colab": {
          "base_uri": "https://localhost:8080/",
          "height": 265
        },
        "id": "tkTpa2y3e-ZK",
        "outputId": "78a96890-5732-4246-d028-d910ab872cf2"
      },
      "source": [
        "bank_with_dummies.plot(kind='hist', x='poutcome_success', y='duration');"
      ],
      "execution_count": null,
      "outputs": [
        {
          "output_type": "display_data",
          "data": {
            "image/png": "[encoded data removed]",
            "text/plain": [
              "<Figure size 432x288 with 1 Axes>"
            ]
          },
          "metadata": {
            "tags": [],
            "needs_background": "light"
          }
        }
      ]
    },
    {
      "cell_type": "code",
      "metadata": {
        "colab": {
          "base_uri": "https://localhost:8080/",
          "height": 321
        },
        "id": "UvjqFW2yfYbN",
        "outputId": "1f74fed4-d75d-46e1-9fdc-b99625d0e9ac"
      },
      "source": [
        "# People who sign up to a term deposite\n",
        "bank_with_dummies[bank_data.deposit_cat == 1].describe()"
      ],
      "execution_count": null,
      "outputs": [
        {
          "output_type": "execute_result",
          "data": {
            "text/html": [
              "<div>\n",
              "<style scoped>\n",
              "    .dataframe tbody tr th:only-of-type {\n",
              "        vertical-align: middle;\n",
              "    }\n",
              "\n",
              "    .dataframe tbody tr th {\n",
              "        vertical-align: top;\n",
              "    }\n",
              "\n",
              "    .dataframe thead th {\n",
              "        text-align: right;\n",
              "    }\n",
              "</style>\n",
              "<table border=\"1\" class=\"dataframe\">\n",
              "  <thead>\n",
              "    <tr style=\"text-align: right;\">\n",
              "      <th></th>\n",
              "      <th>age</th>\n",
              "      <th>balance</th>\n",
              "      <th>duration</th>\n",
              "      <th>campaign</th>\n",
              "      <th>previous</th>\n",
              "      <th>default_cat</th>\n",
              "      <th>housing_cat</th>\n",
              "      <th>loan_cat</th>\n",
              "      <th>deposit_cat</th>\n",
              "      <th>recent_pdays</th>\n",
              "      <th>job_blue-collar</th>\n",
              "      <th>job_entrepreneur</th>\n",
              "      <th>job_other</th>\n",
              "      <th>job_pink-collar</th>\n",
              "      <th>job_self-employed</th>\n",
              "      <th>job_technician</th>\n",
              "      <th>job_white-collar</th>\n",
              "      <th>marital_divorced</th>\n",
              "      <th>marital_married</th>\n",
              "      <th>marital_single</th>\n",
              "      <th>education_primary</th>\n",
              "      <th>education_secondary</th>\n",
              "      <th>education_tertiary</th>\n",
              "      <th>education_unknown</th>\n",
              "      <th>poutcome_failure</th>\n",
              "      <th>poutcome_success</th>\n",
              "      <th>poutcome_unknown</th>\n",
              "    </tr>\n",
              "  </thead>\n",
              "  <tbody>\n",
              "    <tr>\n",
              "      <th>count</th>\n",
              "      <td>5289.000000</td>\n",
              "      <td>5289.000000</td>\n",
              "      <td>5289.000000</td>\n",
              "      <td>5289.000000</td>\n",
              "      <td>5289.000000</td>\n",
              "      <td>5289.000000</td>\n",
              "      <td>5289.000000</td>\n",
              "      <td>5289.000000</td>\n",
              "      <td>5289.0</td>\n",
              "      <td>5289.000000</td>\n",
              "      <td>5289.000000</td>\n",
              "      <td>5289.000000</td>\n",
              "      <td>5289.000000</td>\n",
              "      <td>5289.000000</td>\n",
              "      <td>5289.000000</td>\n",
              "      <td>5289.000000</td>\n",
              "      <td>5289.000000</td>\n",
              "      <td>5289.000000</td>\n",
              "      <td>5289.000000</td>\n",
              "      <td>5289.000000</td>\n",
              "      <td>5289.000000</td>\n",
              "      <td>5289.000000</td>\n",
              "      <td>5289.000000</td>\n",
              "      <td>5289.000000</td>\n",
              "      <td>5289.000000</td>\n",
              "      <td>5289.000000</td>\n",
              "      <td>5289.000000</td>\n",
              "    </tr>\n",
              "    <tr>\n",
              "      <th>mean</th>\n",
              "      <td>41.670070</td>\n",
              "      <td>1804.267915</td>\n",
              "      <td>537.294574</td>\n",
              "      <td>2.141047</td>\n",
              "      <td>1.170354</td>\n",
              "      <td>0.009832</td>\n",
              "      <td>0.365854</td>\n",
              "      <td>0.091511</td>\n",
              "      <td>1.0</td>\n",
              "      <td>0.004238</td>\n",
              "      <td>0.133863</td>\n",
              "      <td>0.023256</td>\n",
              "      <td>0.193042</td>\n",
              "      <td>0.090376</td>\n",
              "      <td>0.035356</td>\n",
              "      <td>0.158820</td>\n",
              "      <td>0.365286</td>\n",
              "      <td>0.117603</td>\n",
              "      <td>0.520892</td>\n",
              "      <td>0.361505</td>\n",
              "      <td>0.111741</td>\n",
              "      <td>0.463226</td>\n",
              "      <td>0.377387</td>\n",
              "      <td>0.047646</td>\n",
              "      <td>0.116846</td>\n",
              "      <td>0.184912</td>\n",
              "      <td>0.698242</td>\n",
              "    </tr>\n",
              "    <tr>\n",
              "      <th>std</th>\n",
              "      <td>13.497781</td>\n",
              "      <td>3501.104777</td>\n",
              "      <td>392.525262</td>\n",
              "      <td>1.921826</td>\n",
              "      <td>2.553272</td>\n",
              "      <td>0.098676</td>\n",
              "      <td>0.481714</td>\n",
              "      <td>0.288361</td>\n",
              "      <td>0.0</td>\n",
              "      <td>0.035686</td>\n",
              "      <td>0.340537</td>\n",
              "      <td>0.150729</td>\n",
              "      <td>0.394723</td>\n",
              "      <td>0.286747</td>\n",
              "      <td>0.184696</td>\n",
              "      <td>0.365543</td>\n",
              "      <td>0.481556</td>\n",
              "      <td>0.322167</td>\n",
              "      <td>0.499611</td>\n",
              "      <td>0.480482</td>\n",
              "      <td>0.315078</td>\n",
              "      <td>0.498693</td>\n",
              "      <td>0.484779</td>\n",
              "      <td>0.213036</td>\n",
              "      <td>0.321267</td>\n",
              "      <td>0.388263</td>\n",
              "      <td>0.459064</td>\n",
              "    </tr>\n",
              "    <tr>\n",
              "      <th>min</th>\n",
              "      <td>18.000000</td>\n",
              "      <td>-3058.000000</td>\n",
              "      <td>8.000000</td>\n",
              "      <td>1.000000</td>\n",
              "      <td>0.000000</td>\n",
              "      <td>0.000000</td>\n",
              "      <td>0.000000</td>\n",
              "      <td>0.000000</td>\n",
              "      <td>1.0</td>\n",
              "      <td>0.000100</td>\n",
              "      <td>0.000000</td>\n",
              "      <td>0.000000</td>\n",
              "      <td>0.000000</td>\n",
              "      <td>0.000000</td>\n",
              "      <td>0.000000</td>\n",
              "      <td>0.000000</td>\n",
              "      <td>0.000000</td>\n",
              "      <td>0.000000</td>\n",
              "      <td>0.000000</td>\n",
              "      <td>0.000000</td>\n",
              "      <td>0.000000</td>\n",
              "      <td>0.000000</td>\n",
              "      <td>0.000000</td>\n",
              "      <td>0.000000</td>\n",
              "      <td>0.000000</td>\n",
              "      <td>0.000000</td>\n",
              "      <td>0.000000</td>\n",
              "    </tr>\n",
              "    <tr>\n",
              "      <th>25%</th>\n",
              "      <td>31.000000</td>\n",
              "      <td>210.000000</td>\n",
              "      <td>244.000000</td>\n",
              "      <td>1.000000</td>\n",
              "      <td>0.000000</td>\n",
              "      <td>0.000000</td>\n",
              "      <td>0.000000</td>\n",
              "      <td>0.000000</td>\n",
              "      <td>1.0</td>\n",
              "      <td>0.000100</td>\n",
              "      <td>0.000000</td>\n",
              "      <td>0.000000</td>\n",
              "      <td>0.000000</td>\n",
              "      <td>0.000000</td>\n",
              "      <td>0.000000</td>\n",
              "      <td>0.000000</td>\n",
              "      <td>0.000000</td>\n",
              "      <td>0.000000</td>\n",
              "      <td>0.000000</td>\n",
              "      <td>0.000000</td>\n",
              "      <td>0.000000</td>\n",
              "      <td>0.000000</td>\n",
              "      <td>0.000000</td>\n",
              "      <td>0.000000</td>\n",
              "      <td>0.000000</td>\n",
              "      <td>0.000000</td>\n",
              "      <td>0.000000</td>\n",
              "    </tr>\n",
              "    <tr>\n",
              "      <th>50%</th>\n",
              "      <td>38.000000</td>\n",
              "      <td>733.000000</td>\n",
              "      <td>426.000000</td>\n",
              "      <td>2.000000</td>\n",
              "      <td>0.000000</td>\n",
              "      <td>0.000000</td>\n",
              "      <td>0.000000</td>\n",
              "      <td>0.000000</td>\n",
              "      <td>1.0</td>\n",
              "      <td>0.000100</td>\n",
              "      <td>0.000000</td>\n",
              "      <td>0.000000</td>\n",
              "      <td>0.000000</td>\n",
              "      <td>0.000000</td>\n",
              "      <td>0.000000</td>\n",
              "      <td>0.000000</td>\n",
              "      <td>0.000000</td>\n",
              "      <td>0.000000</td>\n",
              "      <td>1.000000</td>\n",
              "      <td>0.000000</td>\n",
              "      <td>0.000000</td>\n",
              "      <td>0.000000</td>\n",
              "      <td>0.000000</td>\n",
              "      <td>0.000000</td>\n",
              "      <td>0.000000</td>\n",
              "      <td>0.000000</td>\n",
              "      <td>1.000000</td>\n",
              "    </tr>\n",
              "    <tr>\n",
              "      <th>75%</th>\n",
              "      <td>50.000000</td>\n",
              "      <td>2159.000000</td>\n",
              "      <td>725.000000</td>\n",
              "      <td>3.000000</td>\n",
              "      <td>1.000000</td>\n",
              "      <td>0.000000</td>\n",
              "      <td>1.000000</td>\n",
              "      <td>0.000000</td>\n",
              "      <td>1.0</td>\n",
              "      <td>0.005128</td>\n",
              "      <td>0.000000</td>\n",
              "      <td>0.000000</td>\n",
              "      <td>0.000000</td>\n",
              "      <td>0.000000</td>\n",
              "      <td>0.000000</td>\n",
              "      <td>0.000000</td>\n",
              "      <td>1.000000</td>\n",
              "      <td>0.000000</td>\n",
              "      <td>1.000000</td>\n",
              "      <td>1.000000</td>\n",
              "      <td>0.000000</td>\n",
              "      <td>1.000000</td>\n",
              "      <td>1.000000</td>\n",
              "      <td>0.000000</td>\n",
              "      <td>0.000000</td>\n",
              "      <td>0.000000</td>\n",
              "      <td>1.000000</td>\n",
              "    </tr>\n",
              "    <tr>\n",
              "      <th>max</th>\n",
              "      <td>95.000000</td>\n",
              "      <td>81204.000000</td>\n",
              "      <td>3881.000000</td>\n",
              "      <td>32.000000</td>\n",
              "      <td>58.000000</td>\n",
              "      <td>1.000000</td>\n",
              "      <td>1.000000</td>\n",
              "      <td>1.000000</td>\n",
              "      <td>1.0</td>\n",
              "      <td>1.000000</td>\n",
              "      <td>1.000000</td>\n",
              "      <td>1.000000</td>\n",
              "      <td>1.000000</td>\n",
              "      <td>1.000000</td>\n",
              "      <td>1.000000</td>\n",
              "      <td>1.000000</td>\n",
              "      <td>1.000000</td>\n",
              "      <td>1.000000</td>\n",
              "      <td>1.000000</td>\n",
              "      <td>1.000000</td>\n",
              "      <td>1.000000</td>\n",
              "      <td>1.000000</td>\n",
              "      <td>1.000000</td>\n",
              "      <td>1.000000</td>\n",
              "      <td>1.000000</td>\n",
              "      <td>1.000000</td>\n",
              "      <td>1.000000</td>\n",
              "    </tr>\n",
              "  </tbody>\n",
              "</table>\n",
              "</div>"
            ],
            "text/plain": [
              "               age       balance  ...  poutcome_success  poutcome_unknown\n",
              "count  5289.000000   5289.000000  ...       5289.000000       5289.000000\n",
              "mean     41.670070   1804.267915  ...          0.184912          0.698242\n",
              "std      13.497781   3501.104777  ...          0.388263          0.459064\n",
              "min      18.000000  -3058.000000  ...          0.000000          0.000000\n",
              "25%      31.000000    210.000000  ...          0.000000          0.000000\n",
              "50%      38.000000    733.000000  ...          0.000000          1.000000\n",
              "75%      50.000000   2159.000000  ...          0.000000          1.000000\n",
              "max      95.000000  81204.000000  ...          1.000000          1.000000\n",
              "\n",
              "[8 rows x 27 columns]"
            ]
          },
          "metadata": {
            "tags": []
          },
          "execution_count": 79
        }
      ]
    },
    {
      "cell_type": "code",
      "metadata": {
        "colab": {
          "base_uri": "https://localhost:8080/"
        },
        "id": "OGum9rz-fdKn",
        "outputId": "191e9640-5cfd-4845-f517-ce197bd8d6eb"
      },
      "source": [
        "len(bank_with_dummies[(bank_with_dummies.deposit_cat == 1) & (bank_with_dummies.loan_cat) & (bank_with_dummies.housing_cat)])"
      ],
      "execution_count": null,
      "outputs": [
        {
          "output_type": "execute_result",
          "data": {
            "text/plain": [
              "265"
            ]
          },
          "metadata": {
            "tags": []
          },
          "execution_count": 80
        }
      ]
    },
    {
      "cell_type": "code",
      "metadata": {
        "colab": {
          "base_uri": "https://localhost:8080/"
        },
        "id": "-lQEEpCNfhov",
        "outputId": "07d7f562-f877-4dd3-cd62-70fc247db761"
      },
      "source": [
        "len(bank_with_dummies[(bank_with_dummies.deposit_cat == 1) & (bank_with_dummies.default_cat ==1)])"
      ],
      "execution_count": null,
      "outputs": [
        {
          "output_type": "execute_result",
          "data": {
            "text/plain": [
              "52"
            ]
          },
          "metadata": {
            "tags": []
          },
          "execution_count": 81
        }
      ]
    },
    {
      "cell_type": "code",
      "metadata": {
        "colab": {
          "base_uri": "https://localhost:8080/",
          "height": 405
        },
        "id": "vMTVxSPVflQM",
        "outputId": "852345d6-9513-4de3-80f1-32933ad7fa14"
      },
      "source": [
        "# Bar chart of job Vs deposite\n",
        "plt.figure(figsize = (10,6))\n",
        "sns.barplot(x='job', y = 'deposit_cat', data = bank_data)"
      ],
      "execution_count": null,
      "outputs": [
        {
          "output_type": "execute_result",
          "data": {
            "text/plain": [
              "<matplotlib.axes._subplots.AxesSubplot at 0x7f1824ce9550>"
            ]
          },
          "metadata": {
            "tags": []
          },
          "execution_count": 82
        },
        {
          "output_type": "display_data",
          "data": {
            "image/png": "[encoded data removed]",
            "text/plain": [
              "<Figure size 720x432 with 1 Axes>"
            ]
          },
          "metadata": {
            "tags": [],
            "needs_background": "light"
          }
        }
      ]
    },
    {
      "cell_type": "code",
      "metadata": {
        "colab": {
          "base_uri": "https://localhost:8080/",
          "height": 405
        },
        "id": "2KriikPJfp8U",
        "outputId": "5adb7440-3c73-40b0-c31f-c58c3cb2717d"
      },
      "source": [
        "# Bar chart of \"previous outcome\" Vs \"call duration\"\n",
        "\n",
        "plt.figure(figsize = (10,6))\n",
        "sns.barplot(x='poutcome', y = 'duration', data = bank_data)"
      ],
      "execution_count": null,
      "outputs": [
        {
          "output_type": "execute_result",
          "data": {
            "text/plain": [
              "<matplotlib.axes._subplots.AxesSubplot at 0x7f1825051cd0>"
            ]
          },
          "metadata": {
            "tags": []
          },
          "execution_count": 83
        },
        {
          "output_type": "display_data",
          "data": {
            "image/png": "[encoded data removed]",
            "text/plain": [
              "<Figure size 720x432 with 1 Axes>"
            ]
          },
          "metadata": {
            "tags": [],
            "needs_background": "light"
          }
        }
      ]
    },
    {
      "cell_type": "markdown",
      "metadata": {
        "id": "MTOosAwtfzMK"
      },
      "source": [
        "CLASSIFICATION"
      ]
    },
    {
      "cell_type": "code",
      "metadata": {
        "id": "i7obM7G2fwsT"
      },
      "source": [
        "# make a copy\n",
        "bankcl = bank_with_dummies"
      ],
      "execution_count": null,
      "outputs": []
    },
    {
      "cell_type": "code",
      "metadata": {
        "colab": {
          "base_uri": "https://localhost:8080/",
          "height": 883
        },
        "id": "sGCDAg46f6SN",
        "outputId": "64229a90-09bb-49a6-85da-8c32eacb8893"
      },
      "source": [
        "# The Correltion matrix\n",
        "corr = bankcl.corr()\n",
        "corr"
      ],
      "execution_count": null,
      "outputs": [
        {
          "output_type": "execute_result",
          "data": {
            "text/html": [
              "<div>\n",
              "<style scoped>\n",
              "    .dataframe tbody tr th:only-of-type {\n",
              "        vertical-align: middle;\n",
              "    }\n",
              "\n",
              "    .dataframe tbody tr th {\n",
              "        vertical-align: top;\n",
              "    }\n",
              "\n",
              "    .dataframe thead th {\n",
              "        text-align: right;\n",
              "    }\n",
              "</style>\n",
              "<table border=\"1\" class=\"dataframe\">\n",
              "  <thead>\n",
              "    <tr style=\"text-align: right;\">\n",
              "      <th></th>\n",
              "      <th>age</th>\n",
              "      <th>balance</th>\n",
              "      <th>duration</th>\n",
              "      <th>campaign</th>\n",
              "      <th>previous</th>\n",
              "      <th>default_cat</th>\n",
              "      <th>housing_cat</th>\n",
              "      <th>loan_cat</th>\n",
              "      <th>deposit_cat</th>\n",
              "      <th>recent_pdays</th>\n",
              "      <th>job_blue-collar</th>\n",
              "      <th>job_entrepreneur</th>\n",
              "      <th>job_other</th>\n",
              "      <th>job_pink-collar</th>\n",
              "      <th>job_self-employed</th>\n",
              "      <th>job_technician</th>\n",
              "      <th>job_white-collar</th>\n",
              "      <th>marital_divorced</th>\n",
              "      <th>marital_married</th>\n",
              "      <th>marital_single</th>\n",
              "      <th>education_primary</th>\n",
              "      <th>education_secondary</th>\n",
              "      <th>education_tertiary</th>\n",
              "      <th>education_unknown</th>\n",
              "      <th>poutcome_failure</th>\n",
              "      <th>poutcome_success</th>\n",
              "      <th>poutcome_unknown</th>\n",
              "    </tr>\n",
              "  </thead>\n",
              "  <tbody>\n",
              "    <tr>\n",
              "      <th>age</th>\n",
              "      <td>1.000000</td>\n",
              "      <td>0.112300</td>\n",
              "      <td>0.000189</td>\n",
              "      <td>-0.005278</td>\n",
              "      <td>0.020169</td>\n",
              "      <td>-0.011425</td>\n",
              "      <td>-0.168700</td>\n",
              "      <td>-0.031418</td>\n",
              "      <td>0.034901</td>\n",
              "      <td>0.019102</td>\n",
              "      <td>-0.066567</td>\n",
              "      <td>0.024176</td>\n",
              "      <td>0.296418</td>\n",
              "      <td>-0.027942</td>\n",
              "      <td>-0.023163</td>\n",
              "      <td>-0.082716</td>\n",
              "      <td>-0.080122</td>\n",
              "      <td>0.186349</td>\n",
              "      <td>0.318436</td>\n",
              "      <td>-0.467799</td>\n",
              "      <td>0.231150</td>\n",
              "      <td>-0.094400</td>\n",
              "      <td>-0.101372</td>\n",
              "      <td>0.077761</td>\n",
              "      <td>-0.008071</td>\n",
              "      <td>0.062114</td>\n",
              "      <td>-0.038992</td>\n",
              "    </tr>\n",
              "    <tr>\n",
              "      <th>balance</th>\n",
              "      <td>0.112300</td>\n",
              "      <td>1.000000</td>\n",
              "      <td>0.022436</td>\n",
              "      <td>-0.013894</td>\n",
              "      <td>0.030805</td>\n",
              "      <td>-0.060954</td>\n",
              "      <td>-0.077092</td>\n",
              "      <td>-0.084589</td>\n",
              "      <td>0.081129</td>\n",
              "      <td>-0.004379</td>\n",
              "      <td>-0.046220</td>\n",
              "      <td>0.005039</td>\n",
              "      <td>0.050744</td>\n",
              "      <td>-0.041063</td>\n",
              "      <td>0.020264</td>\n",
              "      <td>0.003802</td>\n",
              "      <td>0.013780</td>\n",
              "      <td>-0.017586</td>\n",
              "      <td>0.025431</td>\n",
              "      <td>-0.014994</td>\n",
              "      <td>-0.000673</td>\n",
              "      <td>-0.070609</td>\n",
              "      <td>0.069128</td>\n",
              "      <td>0.014596</td>\n",
              "      <td>0.001695</td>\n",
              "      <td>0.045603</td>\n",
              "      <td>-0.034524</td>\n",
              "    </tr>\n",
              "    <tr>\n",
              "      <th>duration</th>\n",
              "      <td>0.000189</td>\n",
              "      <td>0.022436</td>\n",
              "      <td>1.000000</td>\n",
              "      <td>-0.041557</td>\n",
              "      <td>-0.026716</td>\n",
              "      <td>-0.009760</td>\n",
              "      <td>0.035051</td>\n",
              "      <td>-0.001914</td>\n",
              "      <td>0.451919</td>\n",
              "      <td>-0.014868</td>\n",
              "      <td>0.029986</td>\n",
              "      <td>-0.000908</td>\n",
              "      <td>0.010680</td>\n",
              "      <td>0.005345</td>\n",
              "      <td>0.013506</td>\n",
              "      <td>-0.010440</td>\n",
              "      <td>-0.031980</td>\n",
              "      <td>0.021364</td>\n",
              "      <td>-0.036179</td>\n",
              "      <td>0.023847</td>\n",
              "      <td>0.013405</td>\n",
              "      <td>0.003820</td>\n",
              "      <td>-0.006813</td>\n",
              "      <td>-0.015887</td>\n",
              "      <td>-0.033966</td>\n",
              "      <td>-0.022578</td>\n",
              "      <td>0.042725</td>\n",
              "    </tr>\n",
              "    <tr>\n",
              "      <th>campaign</th>\n",
              "      <td>-0.005278</td>\n",
              "      <td>-0.013894</td>\n",
              "      <td>-0.041557</td>\n",
              "      <td>1.000000</td>\n",
              "      <td>-0.049699</td>\n",
              "      <td>0.030975</td>\n",
              "      <td>0.006660</td>\n",
              "      <td>0.034722</td>\n",
              "      <td>-0.128081</td>\n",
              "      <td>-0.026296</td>\n",
              "      <td>0.005522</td>\n",
              "      <td>0.013883</td>\n",
              "      <td>-0.050212</td>\n",
              "      <td>0.011958</td>\n",
              "      <td>0.001776</td>\n",
              "      <td>0.021738</td>\n",
              "      <td>0.001944</td>\n",
              "      <td>-0.006828</td>\n",
              "      <td>0.047722</td>\n",
              "      <td>-0.046165</td>\n",
              "      <td>0.019915</td>\n",
              "      <td>-0.013834</td>\n",
              "      <td>-0.005427</td>\n",
              "      <td>0.012976</td>\n",
              "      <td>-0.080188</td>\n",
              "      <td>-0.091807</td>\n",
              "      <td>0.128907</td>\n",
              "    </tr>\n",
              "    <tr>\n",
              "      <th>previous</th>\n",
              "      <td>0.020169</td>\n",
              "      <td>0.030805</td>\n",
              "      <td>-0.026716</td>\n",
              "      <td>-0.049699</td>\n",
              "      <td>1.000000</td>\n",
              "      <td>-0.035273</td>\n",
              "      <td>-0.000840</td>\n",
              "      <td>-0.022668</td>\n",
              "      <td>0.139867</td>\n",
              "      <td>0.122076</td>\n",
              "      <td>-0.039939</td>\n",
              "      <td>-0.022470</td>\n",
              "      <td>0.031191</td>\n",
              "      <td>-0.028623</td>\n",
              "      <td>-0.002338</td>\n",
              "      <td>0.002035</td>\n",
              "      <td>0.034929</td>\n",
              "      <td>-0.026566</td>\n",
              "      <td>-0.005176</td>\n",
              "      <td>0.023817</td>\n",
              "      <td>-0.024852</td>\n",
              "      <td>-0.004620</td>\n",
              "      <td>0.028146</td>\n",
              "      <td>-0.011898</td>\n",
              "      <td>0.335870</td>\n",
              "      <td>0.325477</td>\n",
              "      <td>-0.496921</td>\n",
              "    </tr>\n",
              "    <tr>\n",
              "      <th>default_cat</th>\n",
              "      <td>-0.011425</td>\n",
              "      <td>-0.060954</td>\n",
              "      <td>-0.009760</td>\n",
              "      <td>0.030975</td>\n",
              "      <td>-0.035273</td>\n",
              "      <td>1.000000</td>\n",
              "      <td>0.011076</td>\n",
              "      <td>0.076434</td>\n",
              "      <td>-0.040680</td>\n",
              "      <td>-0.011290</td>\n",
              "      <td>0.022779</td>\n",
              "      <td>0.022060</td>\n",
              "      <td>-0.018130</td>\n",
              "      <td>-0.007173</td>\n",
              "      <td>0.007493</td>\n",
              "      <td>0.003109</td>\n",
              "      <td>-0.013425</td>\n",
              "      <td>0.019633</td>\n",
              "      <td>-0.006819</td>\n",
              "      <td>-0.006255</td>\n",
              "      <td>0.013858</td>\n",
              "      <td>-0.000618</td>\n",
              "      <td>-0.011768</td>\n",
              "      <td>0.005421</td>\n",
              "      <td>-0.024650</td>\n",
              "      <td>-0.040272</td>\n",
              "      <td>0.048403</td>\n",
              "    </tr>\n",
              "    <tr>\n",
              "      <th>housing_cat</th>\n",
              "      <td>-0.168700</td>\n",
              "      <td>-0.077092</td>\n",
              "      <td>0.035051</td>\n",
              "      <td>0.006660</td>\n",
              "      <td>-0.000840</td>\n",
              "      <td>0.011076</td>\n",
              "      <td>1.000000</td>\n",
              "      <td>0.076761</td>\n",
              "      <td>-0.203888</td>\n",
              "      <td>-0.029350</td>\n",
              "      <td>0.189848</td>\n",
              "      <td>0.011492</td>\n",
              "      <td>-0.233309</td>\n",
              "      <td>0.043884</td>\n",
              "      <td>-0.016903</td>\n",
              "      <td>0.006551</td>\n",
              "      <td>-0.012111</td>\n",
              "      <td>0.007430</td>\n",
              "      <td>0.036305</td>\n",
              "      <td>-0.043817</td>\n",
              "      <td>0.017002</td>\n",
              "      <td>0.118514</td>\n",
              "      <td>-0.114955</td>\n",
              "      <td>-0.053191</td>\n",
              "      <td>0.087741</td>\n",
              "      <td>-0.136299</td>\n",
              "      <td>0.031375</td>\n",
              "    </tr>\n",
              "    <tr>\n",
              "      <th>loan_cat</th>\n",
              "      <td>-0.031418</td>\n",
              "      <td>-0.084589</td>\n",
              "      <td>-0.001914</td>\n",
              "      <td>0.034722</td>\n",
              "      <td>-0.022668</td>\n",
              "      <td>0.076434</td>\n",
              "      <td>0.076761</td>\n",
              "      <td>1.000000</td>\n",
              "      <td>-0.110580</td>\n",
              "      <td>-0.012697</td>\n",
              "      <td>0.057956</td>\n",
              "      <td>0.042631</td>\n",
              "      <td>-0.096196</td>\n",
              "      <td>0.014969</td>\n",
              "      <td>0.004299</td>\n",
              "      <td>0.006864</td>\n",
              "      <td>-0.007871</td>\n",
              "      <td>0.026463</td>\n",
              "      <td>0.044148</td>\n",
              "      <td>-0.065288</td>\n",
              "      <td>0.006854</td>\n",
              "      <td>0.079583</td>\n",
              "      <td>-0.067513</td>\n",
              "      <td>-0.050249</td>\n",
              "      <td>0.006264</td>\n",
              "      <td>-0.080370</td>\n",
              "      <td>0.053686</td>\n",
              "    </tr>\n",
              "    <tr>\n",
              "      <th>deposit_cat</th>\n",
              "      <td>0.034901</td>\n",
              "      <td>0.081129</td>\n",
              "      <td>0.451919</td>\n",
              "      <td>-0.128081</td>\n",
              "      <td>0.139867</td>\n",
              "      <td>-0.040680</td>\n",
              "      <td>-0.203888</td>\n",
              "      <td>-0.110580</td>\n",
              "      <td>1.000000</td>\n",
              "      <td>0.034457</td>\n",
              "      <td>-0.100840</td>\n",
              "      <td>-0.034443</td>\n",
              "      <td>0.144408</td>\n",
              "      <td>-0.051717</td>\n",
              "      <td>-0.004707</td>\n",
              "      <td>-0.011557</td>\n",
              "      <td>0.031621</td>\n",
              "      <td>0.005228</td>\n",
              "      <td>-0.092157</td>\n",
              "      <td>0.094632</td>\n",
              "      <td>-0.063002</td>\n",
              "      <td>-0.051952</td>\n",
              "      <td>0.094598</td>\n",
              "      <td>0.014355</td>\n",
              "      <td>0.020714</td>\n",
              "      <td>0.286642</td>\n",
              "      <td>-0.224785</td>\n",
              "    </tr>\n",
              "    <tr>\n",
              "      <th>recent_pdays</th>\n",
              "      <td>0.019102</td>\n",
              "      <td>-0.004379</td>\n",
              "      <td>-0.014868</td>\n",
              "      <td>-0.026296</td>\n",
              "      <td>0.122076</td>\n",
              "      <td>-0.011290</td>\n",
              "      <td>-0.029350</td>\n",
              "      <td>-0.012697</td>\n",
              "      <td>0.034457</td>\n",
              "      <td>1.000000</td>\n",
              "      <td>-0.018514</td>\n",
              "      <td>0.006251</td>\n",
              "      <td>0.024356</td>\n",
              "      <td>-0.001183</td>\n",
              "      <td>-0.008226</td>\n",
              "      <td>-0.007412</td>\n",
              "      <td>0.004516</td>\n",
              "      <td>-0.020253</td>\n",
              "      <td>0.009583</td>\n",
              "      <td>0.003736</td>\n",
              "      <td>-0.007034</td>\n",
              "      <td>-0.017129</td>\n",
              "      <td>0.017346</td>\n",
              "      <td>0.013590</td>\n",
              "      <td>0.051422</td>\n",
              "      <td>0.119598</td>\n",
              "      <td>-0.126890</td>\n",
              "    </tr>\n",
              "    <tr>\n",
              "      <th>job_blue-collar</th>\n",
              "      <td>-0.066567</td>\n",
              "      <td>-0.046220</td>\n",
              "      <td>0.029986</td>\n",
              "      <td>0.005522</td>\n",
              "      <td>-0.039939</td>\n",
              "      <td>0.022779</td>\n",
              "      <td>0.189848</td>\n",
              "      <td>0.057956</td>\n",
              "      <td>-0.100840</td>\n",
              "      <td>-0.018514</td>\n",
              "      <td>1.000000</td>\n",
              "      <td>-0.079905</td>\n",
              "      <td>-0.185447</td>\n",
              "      <td>-0.159162</td>\n",
              "      <td>-0.089107</td>\n",
              "      <td>-0.202896</td>\n",
              "      <td>-0.336538</td>\n",
              "      <td>-0.056240</td>\n",
              "      <td>0.109188</td>\n",
              "      <td>-0.077645</td>\n",
              "      <td>0.299737</td>\n",
              "      <td>0.076687</td>\n",
              "      <td>-0.298548</td>\n",
              "      <td>-0.000640</td>\n",
              "      <td>-0.018022</td>\n",
              "      <td>-0.077422</td>\n",
              "      <td>0.070330</td>\n",
              "    </tr>\n",
              "    <tr>\n",
              "      <th>job_entrepreneur</th>\n",
              "      <td>0.024176</td>\n",
              "      <td>0.005039</td>\n",
              "      <td>-0.000908</td>\n",
              "      <td>0.013883</td>\n",
              "      <td>-0.022470</td>\n",
              "      <td>0.022060</td>\n",
              "      <td>0.011492</td>\n",
              "      <td>0.042631</td>\n",
              "      <td>-0.034443</td>\n",
              "      <td>0.006251</td>\n",
              "      <td>-0.079905</td>\n",
              "      <td>1.000000</td>\n",
              "      <td>-0.070264</td>\n",
              "      <td>-0.060305</td>\n",
              "      <td>-0.033762</td>\n",
              "      <td>-0.076875</td>\n",
              "      <td>-0.127511</td>\n",
              "      <td>0.006638</td>\n",
              "      <td>0.050746</td>\n",
              "      <td>-0.058665</td>\n",
              "      <td>-0.004788</td>\n",
              "      <td>-0.021132</td>\n",
              "      <td>0.026612</td>\n",
              "      <td>-0.001555</td>\n",
              "      <td>-0.001840</td>\n",
              "      <td>-0.035072</td>\n",
              "      <td>0.026966</td>\n",
              "    </tr>\n",
              "    <tr>\n",
              "      <th>job_other</th>\n",
              "      <td>0.296418</td>\n",
              "      <td>0.050744</td>\n",
              "      <td>0.010680</td>\n",
              "      <td>-0.050212</td>\n",
              "      <td>0.031191</td>\n",
              "      <td>-0.018130</td>\n",
              "      <td>-0.233309</td>\n",
              "      <td>-0.096196</td>\n",
              "      <td>0.144408</td>\n",
              "      <td>0.024356</td>\n",
              "      <td>-0.185447</td>\n",
              "      <td>-0.070264</td>\n",
              "      <td>1.000000</td>\n",
              "      <td>-0.139958</td>\n",
              "      <td>-0.078356</td>\n",
              "      <td>-0.178415</td>\n",
              "      <td>-0.295933</td>\n",
              "      <td>0.032824</td>\n",
              "      <td>-0.030982</td>\n",
              "      <td>0.010413</td>\n",
              "      <td>0.114003</td>\n",
              "      <td>-0.020532</td>\n",
              "      <td>-0.110383</td>\n",
              "      <td>0.112986</td>\n",
              "      <td>-0.010865</td>\n",
              "      <td>0.099733</td>\n",
              "      <td>-0.064228</td>\n",
              "    </tr>\n",
              "    <tr>\n",
              "      <th>job_pink-collar</th>\n",
              "      <td>-0.027942</td>\n",
              "      <td>-0.041063</td>\n",
              "      <td>0.005345</td>\n",
              "      <td>0.011958</td>\n",
              "      <td>-0.028623</td>\n",
              "      <td>-0.007173</td>\n",
              "      <td>0.043884</td>\n",
              "      <td>0.014969</td>\n",
              "      <td>-0.051717</td>\n",
              "      <td>-0.001183</td>\n",
              "      <td>-0.159162</td>\n",
              "      <td>-0.060305</td>\n",
              "      <td>-0.139958</td>\n",
              "      <td>1.000000</td>\n",
              "      <td>-0.067250</td>\n",
              "      <td>-0.153127</td>\n",
              "      <td>-0.253988</td>\n",
              "      <td>0.025640</td>\n",
              "      <td>0.007558</td>\n",
              "      <td>-0.025718</td>\n",
              "      <td>0.056150</td>\n",
              "      <td>0.137129</td>\n",
              "      <td>-0.184418</td>\n",
              "      <td>-0.004629</td>\n",
              "      <td>-0.010816</td>\n",
              "      <td>-0.030331</td>\n",
              "      <td>0.030459</td>\n",
              "    </tr>\n",
              "    <tr>\n",
              "      <th>job_self-employed</th>\n",
              "      <td>-0.023163</td>\n",
              "      <td>0.020264</td>\n",
              "      <td>0.013506</td>\n",
              "      <td>0.001776</td>\n",
              "      <td>-0.002338</td>\n",
              "      <td>0.007493</td>\n",
              "      <td>-0.016903</td>\n",
              "      <td>0.004299</td>\n",
              "      <td>-0.004707</td>\n",
              "      <td>-0.008226</td>\n",
              "      <td>-0.089107</td>\n",
              "      <td>-0.033762</td>\n",
              "      <td>-0.078356</td>\n",
              "      <td>-0.067250</td>\n",
              "      <td>1.000000</td>\n",
              "      <td>-0.085728</td>\n",
              "      <td>-0.142196</td>\n",
              "      <td>-0.011849</td>\n",
              "      <td>-0.008164</td>\n",
              "      <td>0.016864</td>\n",
              "      <td>-0.037121</td>\n",
              "      <td>-0.060080</td>\n",
              "      <td>0.097929</td>\n",
              "      <td>-0.016336</td>\n",
              "      <td>-0.010039</td>\n",
              "      <td>-0.001399</td>\n",
              "      <td>0.008786</td>\n",
              "    </tr>\n",
              "    <tr>\n",
              "      <th>job_technician</th>\n",
              "      <td>-0.082716</td>\n",
              "      <td>0.003802</td>\n",
              "      <td>-0.010440</td>\n",
              "      <td>0.021738</td>\n",
              "      <td>0.002035</td>\n",
              "      <td>0.003109</td>\n",
              "      <td>0.006551</td>\n",
              "      <td>0.006864</td>\n",
              "      <td>-0.011557</td>\n",
              "      <td>-0.007412</td>\n",
              "      <td>-0.202896</td>\n",
              "      <td>-0.076875</td>\n",
              "      <td>-0.178415</td>\n",
              "      <td>-0.153127</td>\n",
              "      <td>-0.085728</td>\n",
              "      <td>1.000000</td>\n",
              "      <td>-0.323778</td>\n",
              "      <td>-0.005434</td>\n",
              "      <td>-0.052492</td>\n",
              "      <td>0.059696</td>\n",
              "      <td>-0.144948</td>\n",
              "      <td>0.152542</td>\n",
              "      <td>-0.041988</td>\n",
              "      <td>-0.034276</td>\n",
              "      <td>0.005763</td>\n",
              "      <td>-0.014744</td>\n",
              "      <td>0.006279</td>\n",
              "    </tr>\n",
              "    <tr>\n",
              "      <th>job_white-collar</th>\n",
              "      <td>-0.080122</td>\n",
              "      <td>0.013780</td>\n",
              "      <td>-0.031980</td>\n",
              "      <td>0.001944</td>\n",
              "      <td>0.034929</td>\n",
              "      <td>-0.013425</td>\n",
              "      <td>-0.012111</td>\n",
              "      <td>-0.007871</td>\n",
              "      <td>0.031621</td>\n",
              "      <td>0.004516</td>\n",
              "      <td>-0.336538</td>\n",
              "      <td>-0.127511</td>\n",
              "      <td>-0.295933</td>\n",
              "      <td>-0.253988</td>\n",
              "      <td>-0.142196</td>\n",
              "      <td>-0.323778</td>\n",
              "      <td>1.000000</td>\n",
              "      <td>0.010701</td>\n",
              "      <td>-0.043270</td>\n",
              "      <td>0.038752</td>\n",
              "      <td>-0.229245</td>\n",
              "      <td>-0.222261</td>\n",
              "      <td>0.422261</td>\n",
              "      <td>-0.045233</td>\n",
              "      <td>0.029387</td>\n",
              "      <td>0.033044</td>\n",
              "      <td>-0.046804</td>\n",
              "    </tr>\n",
              "    <tr>\n",
              "      <th>marital_divorced</th>\n",
              "      <td>0.186349</td>\n",
              "      <td>-0.017586</td>\n",
              "      <td>0.021364</td>\n",
              "      <td>-0.006828</td>\n",
              "      <td>-0.026566</td>\n",
              "      <td>0.019633</td>\n",
              "      <td>0.007430</td>\n",
              "      <td>0.026463</td>\n",
              "      <td>0.005228</td>\n",
              "      <td>-0.020253</td>\n",
              "      <td>-0.056240</td>\n",
              "      <td>0.006638</td>\n",
              "      <td>0.032824</td>\n",
              "      <td>0.025640</td>\n",
              "      <td>-0.011849</td>\n",
              "      <td>-0.005434</td>\n",
              "      <td>0.010701</td>\n",
              "      <td>1.000000</td>\n",
              "      <td>-0.415878</td>\n",
              "      <td>-0.245556</td>\n",
              "      <td>0.024821</td>\n",
              "      <td>0.009891</td>\n",
              "      <td>-0.024597</td>\n",
              "      <td>-0.008920</td>\n",
              "      <td>-0.026169</td>\n",
              "      <td>-0.018120</td>\n",
              "      <td>0.033445</td>\n",
              "    </tr>\n",
              "    <tr>\n",
              "      <th>marital_married</th>\n",
              "      <td>0.318436</td>\n",
              "      <td>0.025431</td>\n",
              "      <td>-0.036179</td>\n",
              "      <td>0.047722</td>\n",
              "      <td>-0.005176</td>\n",
              "      <td>-0.006819</td>\n",
              "      <td>0.036305</td>\n",
              "      <td>0.044148</td>\n",
              "      <td>-0.092157</td>\n",
              "      <td>0.009583</td>\n",
              "      <td>0.109188</td>\n",
              "      <td>0.050746</td>\n",
              "      <td>-0.030982</td>\n",
              "      <td>0.007558</td>\n",
              "      <td>-0.008164</td>\n",
              "      <td>-0.052492</td>\n",
              "      <td>-0.043270</td>\n",
              "      <td>-0.415878</td>\n",
              "      <td>1.000000</td>\n",
              "      <td>-0.779455</td>\n",
              "      <td>0.130232</td>\n",
              "      <td>0.001536</td>\n",
              "      <td>-0.098449</td>\n",
              "      <td>0.005451</td>\n",
              "      <td>0.007682</td>\n",
              "      <td>-0.010063</td>\n",
              "      <td>0.001384</td>\n",
              "    </tr>\n",
              "    <tr>\n",
              "      <th>marital_single</th>\n",
              "      <td>-0.467799</td>\n",
              "      <td>-0.014994</td>\n",
              "      <td>0.023847</td>\n",
              "      <td>-0.046165</td>\n",
              "      <td>0.023817</td>\n",
              "      <td>-0.006255</td>\n",
              "      <td>-0.043817</td>\n",
              "      <td>-0.065288</td>\n",
              "      <td>0.094632</td>\n",
              "      <td>0.003736</td>\n",
              "      <td>-0.077645</td>\n",
              "      <td>-0.058665</td>\n",
              "      <td>0.010413</td>\n",
              "      <td>-0.025718</td>\n",
              "      <td>0.016864</td>\n",
              "      <td>0.059696</td>\n",
              "      <td>0.038752</td>\n",
              "      <td>-0.245556</td>\n",
              "      <td>-0.779455</td>\n",
              "      <td>1.000000</td>\n",
              "      <td>-0.155917</td>\n",
              "      <td>-0.008450</td>\n",
              "      <td>0.121884</td>\n",
              "      <td>0.000334</td>\n",
              "      <td>0.009838</td>\n",
              "      <td>0.023208</td>\n",
              "      <td>-0.024514</td>\n",
              "    </tr>\n",
              "    <tr>\n",
              "      <th>education_primary</th>\n",
              "      <td>0.231150</td>\n",
              "      <td>-0.000673</td>\n",
              "      <td>0.013405</td>\n",
              "      <td>0.019915</td>\n",
              "      <td>-0.024852</td>\n",
              "      <td>0.013858</td>\n",
              "      <td>0.017002</td>\n",
              "      <td>0.006854</td>\n",
              "      <td>-0.063002</td>\n",
              "      <td>-0.007034</td>\n",
              "      <td>0.299737</td>\n",
              "      <td>-0.004788</td>\n",
              "      <td>0.114003</td>\n",
              "      <td>0.056150</td>\n",
              "      <td>-0.037121</td>\n",
              "      <td>-0.144948</td>\n",
              "      <td>-0.229245</td>\n",
              "      <td>0.024821</td>\n",
              "      <td>0.130232</td>\n",
              "      <td>-0.155917</td>\n",
              "      <td>1.000000</td>\n",
              "      <td>-0.386670</td>\n",
              "      <td>-0.276834</td>\n",
              "      <td>-0.085057</td>\n",
              "      <td>-0.026044</td>\n",
              "      <td>-0.049879</td>\n",
              "      <td>0.056477</td>\n",
              "    </tr>\n",
              "    <tr>\n",
              "      <th>education_secondary</th>\n",
              "      <td>-0.094400</td>\n",
              "      <td>-0.070609</td>\n",
              "      <td>0.003820</td>\n",
              "      <td>-0.013834</td>\n",
              "      <td>-0.004620</td>\n",
              "      <td>-0.000618</td>\n",
              "      <td>0.118514</td>\n",
              "      <td>0.079583</td>\n",
              "      <td>-0.051952</td>\n",
              "      <td>-0.017129</td>\n",
              "      <td>0.076687</td>\n",
              "      <td>-0.021132</td>\n",
              "      <td>-0.020532</td>\n",
              "      <td>0.137129</td>\n",
              "      <td>-0.060080</td>\n",
              "      <td>0.152542</td>\n",
              "      <td>-0.222261</td>\n",
              "      <td>0.009891</td>\n",
              "      <td>0.001536</td>\n",
              "      <td>-0.008450</td>\n",
              "      <td>-0.386670</td>\n",
              "      <td>1.000000</td>\n",
              "      <td>-0.689501</td>\n",
              "      <td>-0.211849</td>\n",
              "      <td>0.010625</td>\n",
              "      <td>-0.029466</td>\n",
              "      <td>0.013238</td>\n",
              "    </tr>\n",
              "    <tr>\n",
              "      <th>education_tertiary</th>\n",
              "      <td>-0.101372</td>\n",
              "      <td>0.069128</td>\n",
              "      <td>-0.006813</td>\n",
              "      <td>-0.005427</td>\n",
              "      <td>0.028146</td>\n",
              "      <td>-0.011768</td>\n",
              "      <td>-0.114955</td>\n",
              "      <td>-0.067513</td>\n",
              "      <td>0.094598</td>\n",
              "      <td>0.017346</td>\n",
              "      <td>-0.298548</td>\n",
              "      <td>0.026612</td>\n",
              "      <td>-0.110383</td>\n",
              "      <td>-0.184418</td>\n",
              "      <td>0.097929</td>\n",
              "      <td>-0.041988</td>\n",
              "      <td>0.422261</td>\n",
              "      <td>-0.024597</td>\n",
              "      <td>-0.098449</td>\n",
              "      <td>0.121884</td>\n",
              "      <td>-0.276834</td>\n",
              "      <td>-0.689501</td>\n",
              "      <td>1.000000</td>\n",
              "      <td>-0.151672</td>\n",
              "      <td>0.012265</td>\n",
              "      <td>0.059518</td>\n",
              "      <td>-0.052836</td>\n",
              "    </tr>\n",
              "    <tr>\n",
              "      <th>education_unknown</th>\n",
              "      <td>0.077761</td>\n",
              "      <td>0.014596</td>\n",
              "      <td>-0.015887</td>\n",
              "      <td>0.012976</td>\n",
              "      <td>-0.011898</td>\n",
              "      <td>0.005421</td>\n",
              "      <td>-0.053191</td>\n",
              "      <td>-0.050249</td>\n",
              "      <td>0.014355</td>\n",
              "      <td>0.013590</td>\n",
              "      <td>-0.000640</td>\n",
              "      <td>-0.001555</td>\n",
              "      <td>0.112986</td>\n",
              "      <td>-0.004629</td>\n",
              "      <td>-0.016336</td>\n",
              "      <td>-0.034276</td>\n",
              "      <td>-0.045233</td>\n",
              "      <td>-0.008920</td>\n",
              "      <td>0.005451</td>\n",
              "      <td>0.000334</td>\n",
              "      <td>-0.085057</td>\n",
              "      <td>-0.211849</td>\n",
              "      <td>-0.151672</td>\n",
              "      <td>1.000000</td>\n",
              "      <td>-0.010658</td>\n",
              "      <td>0.018158</td>\n",
              "      <td>-0.004978</td>\n",
              "    </tr>\n",
              "    <tr>\n",
              "      <th>poutcome_failure</th>\n",
              "      <td>-0.008071</td>\n",
              "      <td>0.001695</td>\n",
              "      <td>-0.033966</td>\n",
              "      <td>-0.080188</td>\n",
              "      <td>0.335870</td>\n",
              "      <td>-0.024650</td>\n",
              "      <td>0.087741</td>\n",
              "      <td>0.006264</td>\n",
              "      <td>0.020714</td>\n",
              "      <td>0.051422</td>\n",
              "      <td>-0.018022</td>\n",
              "      <td>-0.001840</td>\n",
              "      <td>-0.010865</td>\n",
              "      <td>-0.010816</td>\n",
              "      <td>-0.010039</td>\n",
              "      <td>0.005763</td>\n",
              "      <td>0.029387</td>\n",
              "      <td>-0.026169</td>\n",
              "      <td>0.007682</td>\n",
              "      <td>0.009838</td>\n",
              "      <td>-0.026044</td>\n",
              "      <td>0.010625</td>\n",
              "      <td>0.012265</td>\n",
              "      <td>-0.010658</td>\n",
              "      <td>1.000000</td>\n",
              "      <td>-0.114542</td>\n",
              "      <td>-0.690332</td>\n",
              "    </tr>\n",
              "    <tr>\n",
              "      <th>poutcome_success</th>\n",
              "      <td>0.062114</td>\n",
              "      <td>0.045603</td>\n",
              "      <td>-0.022578</td>\n",
              "      <td>-0.091807</td>\n",
              "      <td>0.325477</td>\n",
              "      <td>-0.040272</td>\n",
              "      <td>-0.136299</td>\n",
              "      <td>-0.080370</td>\n",
              "      <td>0.286642</td>\n",
              "      <td>0.119598</td>\n",
              "      <td>-0.077422</td>\n",
              "      <td>-0.035072</td>\n",
              "      <td>0.099733</td>\n",
              "      <td>-0.030331</td>\n",
              "      <td>-0.001399</td>\n",
              "      <td>-0.014744</td>\n",
              "      <td>0.033044</td>\n",
              "      <td>-0.018120</td>\n",
              "      <td>-0.010063</td>\n",
              "      <td>0.023208</td>\n",
              "      <td>-0.049879</td>\n",
              "      <td>-0.029466</td>\n",
              "      <td>0.059518</td>\n",
              "      <td>0.018158</td>\n",
              "      <td>-0.114542</td>\n",
              "      <td>1.000000</td>\n",
              "      <td>-0.639659</td>\n",
              "    </tr>\n",
              "    <tr>\n",
              "      <th>poutcome_unknown</th>\n",
              "      <td>-0.038992</td>\n",
              "      <td>-0.034524</td>\n",
              "      <td>0.042725</td>\n",
              "      <td>0.128907</td>\n",
              "      <td>-0.496921</td>\n",
              "      <td>0.048403</td>\n",
              "      <td>0.031375</td>\n",
              "      <td>0.053686</td>\n",
              "      <td>-0.224785</td>\n",
              "      <td>-0.126890</td>\n",
              "      <td>0.070330</td>\n",
              "      <td>0.026966</td>\n",
              "      <td>-0.064228</td>\n",
              "      <td>0.030459</td>\n",
              "      <td>0.008786</td>\n",
              "      <td>0.006279</td>\n",
              "      <td>-0.046804</td>\n",
              "      <td>0.033445</td>\n",
              "      <td>0.001384</td>\n",
              "      <td>-0.024514</td>\n",
              "      <td>0.056477</td>\n",
              "      <td>0.013238</td>\n",
              "      <td>-0.052836</td>\n",
              "      <td>-0.004978</td>\n",
              "      <td>-0.690332</td>\n",
              "      <td>-0.639659</td>\n",
              "      <td>1.000000</td>\n",
              "    </tr>\n",
              "  </tbody>\n",
              "</table>\n",
              "</div>"
            ],
            "text/plain": [
              "                          age   balance  ...  poutcome_success  poutcome_unknown\n",
              "age                  1.000000  0.112300  ...          0.062114         -0.038992\n",
              "balance              0.112300  1.000000  ...          0.045603         -0.034524\n",
              "duration             0.000189  0.022436  ...         -0.022578          0.042725\n",
              "campaign            -0.005278 -0.013894  ...         -0.091807          0.128907\n",
              "previous             0.020169  0.030805  ...          0.325477         -0.496921\n",
              "default_cat         -0.011425 -0.060954  ...         -0.040272          0.048403\n",
              "housing_cat         -0.168700 -0.077092  ...         -0.136299          0.031375\n",
              "loan_cat            -0.031418 -0.084589  ...         -0.080370          0.053686\n",
              "deposit_cat          0.034901  0.081129  ...          0.286642         -0.224785\n",
              "recent_pdays         0.019102 -0.004379  ...          0.119598         -0.126890\n",
              "job_blue-collar     -0.066567 -0.046220  ...         -0.077422          0.070330\n",
              "job_entrepreneur     0.024176  0.005039  ...         -0.035072          0.026966\n",
              "job_other            0.296418  0.050744  ...          0.099733         -0.064228\n",
              "job_pink-collar     -0.027942 -0.041063  ...         -0.030331          0.030459\n",
              "job_self-employed   -0.023163  0.020264  ...         -0.001399          0.008786\n",
              "job_technician      -0.082716  0.003802  ...         -0.014744          0.006279\n",
              "job_white-collar    -0.080122  0.013780  ...          0.033044         -0.046804\n",
              "marital_divorced     0.186349 -0.017586  ...         -0.018120          0.033445\n",
              "marital_married      0.318436  0.025431  ...         -0.010063          0.001384\n",
              "marital_single      -0.467799 -0.014994  ...          0.023208         -0.024514\n",
              "education_primary    0.231150 -0.000673  ...         -0.049879          0.056477\n",
              "education_secondary -0.094400 -0.070609  ...         -0.029466          0.013238\n",
              "education_tertiary  -0.101372  0.069128  ...          0.059518         -0.052836\n",
              "education_unknown    0.077761  0.014596  ...          0.018158         -0.004978\n",
              "poutcome_failure    -0.008071  0.001695  ...         -0.114542         -0.690332\n",
              "poutcome_success     0.062114  0.045603  ...          1.000000         -0.639659\n",
              "poutcome_unknown    -0.038992 -0.034524  ...         -0.639659          1.000000\n",
              "\n",
              "[27 rows x 27 columns]"
            ]
          },
          "metadata": {
            "tags": []
          },
          "execution_count": 85
        }
      ]
    },
    {
      "cell_type": "code",
      "metadata": {
        "colab": {
          "base_uri": "https://localhost:8080/",
          "height": 624
        },
        "id": "av2hIg6hf-YP",
        "outputId": "48338fb5-ee60-4bf0-8ae1-70ccfa7d08d3"
      },
      "source": [
        "plt.figure(figsize = (10,10))\n",
        "cmap = sns.diverging_palette(220, 10, as_cmap=True)\n",
        "sns.heatmap(corr, xticklabels=corr.columns.values, yticklabels=corr.columns.values, cmap=cmap, vmax=.3, center=0, square=True, linewidths=.5, cbar_kws={\"shrink\": .82})\n",
        "plt.title('Heatmap of Correlation Matrix')"
      ],
      "execution_count": null,
      "outputs": [
        {
          "output_type": "execute_result",
          "data": {
            "text/plain": [
              "Text(0.5, 1.0, 'Heatmap of Correlation Matrix')"
            ]
          },
          "metadata": {
            "tags": []
          },
          "execution_count": 86
        },
        {
          "output_type": "display_data",
          "data": {
            "image/png": "[encoded data removed]",
            "text/plain": [
              "<Figure size 720x720 with 2 Axes>"
            ]
          },
          "metadata": {
            "tags": [],
            "needs_background": "light"
          }
        }
      ]
    },
    {
      "cell_type": "code",
      "metadata": {
        "colab": {
          "base_uri": "https://localhost:8080/",
          "height": 817
        },
        "id": "6F7C5Ux3gDLf",
        "outputId": "31dc8e96-9ec5-40a7-c1fe-569f685e6e0c"
      },
      "source": [
        "# Extract the deposte_cat column (the dependent variable)\n",
        "corr_deposite = pd.DataFrame(corr['deposit_cat'].drop('deposit_cat'))\n",
        "corr_deposite.sort_values(by = 'deposit_cat', ascending = False)"
      ],
      "execution_count": null,
      "outputs": [
        {
          "output_type": "execute_result",
          "data": {
            "text/html": [
              "<div>\n",
              "<style scoped>\n",
              "    .dataframe tbody tr th:only-of-type {\n",
              "        vertical-align: middle;\n",
              "    }\n",
              "\n",
              "    .dataframe tbody tr th {\n",
              "        vertical-align: top;\n",
              "    }\n",
              "\n",
              "    .dataframe thead th {\n",
              "        text-align: right;\n",
              "    }\n",
              "</style>\n",
              "<table border=\"1\" class=\"dataframe\">\n",
              "  <thead>\n",
              "    <tr style=\"text-align: right;\">\n",
              "      <th></th>\n",
              "      <th>deposit_cat</th>\n",
              "    </tr>\n",
              "  </thead>\n",
              "  <tbody>\n",
              "    <tr>\n",
              "      <th>duration</th>\n",
              "      <td>0.451919</td>\n",
              "    </tr>\n",
              "    <tr>\n",
              "      <th>poutcome_success</th>\n",
              "      <td>0.286642</td>\n",
              "    </tr>\n",
              "    <tr>\n",
              "      <th>job_other</th>\n",
              "      <td>0.144408</td>\n",
              "    </tr>\n",
              "    <tr>\n",
              "      <th>previous</th>\n",
              "      <td>0.139867</td>\n",
              "    </tr>\n",
              "    <tr>\n",
              "      <th>marital_single</th>\n",
              "      <td>0.094632</td>\n",
              "    </tr>\n",
              "    <tr>\n",
              "      <th>education_tertiary</th>\n",
              "      <td>0.094598</td>\n",
              "    </tr>\n",
              "    <tr>\n",
              "      <th>balance</th>\n",
              "      <td>0.081129</td>\n",
              "    </tr>\n",
              "    <tr>\n",
              "      <th>age</th>\n",
              "      <td>0.034901</td>\n",
              "    </tr>\n",
              "    <tr>\n",
              "      <th>recent_pdays</th>\n",
              "      <td>0.034457</td>\n",
              "    </tr>\n",
              "    <tr>\n",
              "      <th>job_white-collar</th>\n",
              "      <td>0.031621</td>\n",
              "    </tr>\n",
              "    <tr>\n",
              "      <th>poutcome_failure</th>\n",
              "      <td>0.020714</td>\n",
              "    </tr>\n",
              "    <tr>\n",
              "      <th>education_unknown</th>\n",
              "      <td>0.014355</td>\n",
              "    </tr>\n",
              "    <tr>\n",
              "      <th>marital_divorced</th>\n",
              "      <td>0.005228</td>\n",
              "    </tr>\n",
              "    <tr>\n",
              "      <th>job_self-employed</th>\n",
              "      <td>-0.004707</td>\n",
              "    </tr>\n",
              "    <tr>\n",
              "      <th>job_technician</th>\n",
              "      <td>-0.011557</td>\n",
              "    </tr>\n",
              "    <tr>\n",
              "      <th>job_entrepreneur</th>\n",
              "      <td>-0.034443</td>\n",
              "    </tr>\n",
              "    <tr>\n",
              "      <th>default_cat</th>\n",
              "      <td>-0.040680</td>\n",
              "    </tr>\n",
              "    <tr>\n",
              "      <th>job_pink-collar</th>\n",
              "      <td>-0.051717</td>\n",
              "    </tr>\n",
              "    <tr>\n",
              "      <th>education_secondary</th>\n",
              "      <td>-0.051952</td>\n",
              "    </tr>\n",
              "    <tr>\n",
              "      <th>education_primary</th>\n",
              "      <td>-0.063002</td>\n",
              "    </tr>\n",
              "    <tr>\n",
              "      <th>marital_married</th>\n",
              "      <td>-0.092157</td>\n",
              "    </tr>\n",
              "    <tr>\n",
              "      <th>job_blue-collar</th>\n",
              "      <td>-0.100840</td>\n",
              "    </tr>\n",
              "    <tr>\n",
              "      <th>loan_cat</th>\n",
              "      <td>-0.110580</td>\n",
              "    </tr>\n",
              "    <tr>\n",
              "      <th>campaign</th>\n",
              "      <td>-0.128081</td>\n",
              "    </tr>\n",
              "    <tr>\n",
              "      <th>housing_cat</th>\n",
              "      <td>-0.203888</td>\n",
              "    </tr>\n",
              "    <tr>\n",
              "      <th>poutcome_unknown</th>\n",
              "      <td>-0.224785</td>\n",
              "    </tr>\n",
              "  </tbody>\n",
              "</table>\n",
              "</div>"
            ],
            "text/plain": [
              "                     deposit_cat\n",
              "duration                0.451919\n",
              "poutcome_success        0.286642\n",
              "job_other               0.144408\n",
              "previous                0.139867\n",
              "marital_single          0.094632\n",
              "education_tertiary      0.094598\n",
              "balance                 0.081129\n",
              "age                     0.034901\n",
              "recent_pdays            0.034457\n",
              "job_white-collar        0.031621\n",
              "poutcome_failure        0.020714\n",
              "education_unknown       0.014355\n",
              "marital_divorced        0.005228\n",
              "job_self-employed      -0.004707\n",
              "job_technician         -0.011557\n",
              "job_entrepreneur       -0.034443\n",
              "default_cat            -0.040680\n",
              "job_pink-collar        -0.051717\n",
              "education_secondary    -0.051952\n",
              "education_primary      -0.063002\n",
              "marital_married        -0.092157\n",
              "job_blue-collar        -0.100840\n",
              "loan_cat               -0.110580\n",
              "campaign               -0.128081\n",
              "housing_cat            -0.203888\n",
              "poutcome_unknown       -0.224785"
            ]
          },
          "metadata": {
            "tags": []
          },
          "execution_count": 87
        }
      ]
    },
    {
      "cell_type": "markdown",
      "metadata": {
        "id": "TQ-BFriImLgr"
      },
      "source": [
        "MODEL"
      ]
    },
    {
      "cell_type": "code",
      "metadata": {
        "id": "mYuGnWIzgJF2"
      },
      "source": [
        "# Train-Test split: 20% test data\n",
        "data_drop_deposite = bankcl.drop('deposit_cat', 1)\n",
        "label = bankcl.deposit_cat\n",
        "data_train, data_test, label_train, label_test = train_test_split(data_drop_deposite, label, test_size = 0.2, random_state = 50)"
      ],
      "execution_count": null,
      "outputs": []
    },
    {
      "cell_type": "code",
      "metadata": {
        "colab": {
          "base_uri": "https://localhost:8080/"
        },
        "id": "dQfjI5MEmDVD",
        "outputId": "0d6d699b-d8f5-49ca-917f-fd5931b6ba6e"
      },
      "source": [
        "# Decision tree with depth = 2\n",
        "dt2 = tree.DecisionTreeClassifier(random_state=1, max_depth=2)\n",
        "dt2.fit(data_train, label_train)\n",
        "dt2_score_train = dt2.score(data_train, label_train)\n",
        "print(\"Training score: \",dt2_score_train)\n",
        "dt2_score_test = dt2.score(data_test, label_test)\n",
        "print(\"Testing score: \",dt2_score_test)"
      ],
      "execution_count": null,
      "outputs": [
        {
          "output_type": "stream",
          "text": [
            "Training score:  0.7285250307985217\n",
            "Testing score:  0.7268248992386923\n"
          ],
          "name": "stdout"
        }
      ]
    },
    {
      "cell_type": "code",
      "metadata": {
        "colab": {
          "base_uri": "https://localhost:8080/"
        },
        "id": "g5Mr4OYfmdEs",
        "outputId": "fd90c597-b2d2-4124-b4e6-e714a8d02485"
      },
      "source": [
        "# Decision tree with depth = 3\n",
        "dt3 = tree.DecisionTreeClassifier(random_state=1, max_depth=3)\n",
        "dt3.fit(data_train, label_train)\n",
        "dt3_score_train = dt3.score(data_train, label_train)\n",
        "print(\"Training score: \",dt3_score_train)\n",
        "dt3_score_test = dt3.score(data_test, label_test)\n",
        "print(\"Testing score: \",dt3_score_test)"
      ],
      "execution_count": null,
      "outputs": [
        {
          "output_type": "stream",
          "text": [
            "Training score:  0.770411020271027\n",
            "Testing score:  0.7572772055530677\n"
          ],
          "name": "stdout"
        }
      ]
    },
    {
      "cell_type": "code",
      "metadata": {
        "colab": {
          "base_uri": "https://localhost:8080/"
        },
        "id": "7Dg-9X5UmpWX",
        "outputId": "4c6401b3-40e9-463f-c2af-4cbc48cea3d7"
      },
      "source": [
        "# Decision tree with depth = 4\n",
        "dt4 = tree.DecisionTreeClassifier(random_state=1, max_depth=4)\n",
        "dt4.fit(data_train, label_train)\n",
        "dt4_score_train = dt4.score(data_train, label_train)\n",
        "print(\"Training score: \",dt4_score_train)\n",
        "dt4_score_test = dt4.score(data_test, label_test)\n",
        "print(\"Testing score: \",dt4_score_test)"
      ],
      "execution_count": null,
      "outputs": [
        {
          "output_type": "stream",
          "text": [
            "Training score:  0.7885541494008288\n",
            "Testing score:  0.774294670846395\n"
          ],
          "name": "stdout"
        }
      ]
    },
    {
      "cell_type": "code",
      "metadata": {
        "colab": {
          "base_uri": "https://localhost:8080/"
        },
        "id": "vk4yJEl8mtW4",
        "outputId": "6c4fd8c1-9c8f-43bd-e8b1-f0aad03c330f"
      },
      "source": [
        "# Decision tree with depth = 6\n",
        "dt6 = tree.DecisionTreeClassifier(random_state=1, max_depth=6)\n",
        "dt6.fit(data_train, label_train)\n",
        "dt6_score_train = dt6.score(data_train, label_train)\n",
        "print(\"Training score: \",dt6_score_train)\n",
        "dt6_score_test = dt6.score(data_test, label_test)\n",
        "print(\"Testing score: \",dt6_score_test)"
      ],
      "execution_count": null,
      "outputs": [
        {
          "output_type": "stream",
          "text": [
            "Training score:  0.8080412140217269\n",
            "Testing score:  0.7796686072548141\n"
          ],
          "name": "stdout"
        }
      ]
    },
    {
      "cell_type": "code",
      "metadata": {
        "colab": {
          "base_uri": "https://localhost:8080/"
        },
        "id": "E24g7-Lcmwjm",
        "outputId": "d7ca4ce9-411c-4893-830c-ce6352942854"
      },
      "source": [
        "# Decision tree: To the full depth\n",
        "dt1 = tree.DecisionTreeClassifier()\n",
        "dt1.fit(data_train, label_train)\n",
        "dt1_score_train = dt1.score(data_train, label_train)\n",
        "print(\"Training score: \", dt1_score_train)\n",
        "dt1_score_test = dt1.score(data_test, label_test)\n",
        "print(\"Testing score: \", dt1_score_test)"
      ],
      "execution_count": null,
      "outputs": [
        {
          "output_type": "stream",
          "text": [
            "Training score:  1.0\n",
            "Testing score:  0.7335423197492164\n"
          ],
          "name": "stdout"
        }
      ]
    },
    {
      "cell_type": "code",
      "metadata": {
        "colab": {
          "base_uri": "https://localhost:8080/"
        },
        "id": "W5KZTIZsm5wQ",
        "outputId": "4731ebd6-9df6-496d-bb87-44988bdb17b8"
      },
      "source": [
        "# Two classes: 0 = not signed up,  1 = signed up\n",
        "dt2.classes_"
      ],
      "execution_count": null,
      "outputs": [
        {
          "output_type": "execute_result",
          "data": {
            "text/plain": [
              "array([0, 1])"
            ]
          },
          "metadata": {
            "tags": []
          },
          "execution_count": 95
        }
      ]
    },
    {
      "cell_type": "code",
      "metadata": {
        "colab": {
          "base_uri": "https://localhost:8080/"
        },
        "id": "c2KffQl8nQ_b",
        "outputId": "3aa9a7ea-81f8-4141-a3e8-c2aa9a374042"
      },
      "source": [
        "# Create a feature vector\n",
        "features = data_drop_deposite.columns.tolist()\n",
        "\n",
        "features"
      ],
      "execution_count": null,
      "outputs": [
        {
          "output_type": "execute_result",
          "data": {
            "text/plain": [
              "['age',\n",
              " 'balance',\n",
              " 'duration',\n",
              " 'campaign',\n",
              " 'previous',\n",
              " 'default_cat',\n",
              " 'housing_cat',\n",
              " 'loan_cat',\n",
              " 'recent_pdays',\n",
              " 'job_blue-collar',\n",
              " 'job_entrepreneur',\n",
              " 'job_other',\n",
              " 'job_pink-collar',\n",
              " 'job_self-employed',\n",
              " 'job_technician',\n",
              " 'job_white-collar',\n",
              " 'marital_divorced',\n",
              " 'marital_married',\n",
              " 'marital_single',\n",
              " 'education_primary',\n",
              " 'education_secondary',\n",
              " 'education_tertiary',\n",
              " 'education_unknown',\n",
              " 'poutcome_failure',\n",
              " 'poutcome_success',\n",
              " 'poutcome_unknown']"
            ]
          },
          "metadata": {
            "tags": []
          },
          "execution_count": 96
        }
      ]
    },
    {
      "cell_type": "code",
      "metadata": {
        "colab": {
          "base_uri": "https://localhost:8080/"
        },
        "id": "AjDpvbxfnUSk",
        "outputId": "7da73368-d460-41f1-9718-174a7778cb2f"
      },
      "source": [
        "# Investigate most important features with depth =2\n",
        "\n",
        "dt2 = tree.DecisionTreeClassifier(random_state=1, max_depth=2)\n",
        "\n",
        "# Fit the decision tree classifier\n",
        "dt2.fit(data_train, label_train)\n",
        "\n",
        "fi = dt2.feature_importances_\n",
        "\n",
        "l = len(features)\n",
        "for i in range(0,len(features)):\n",
        "    print('{:.<20} {:3}'.format(features[i],fi[i]))"
      ],
      "execution_count": null,
      "outputs": [
        {
          "output_type": "stream",
          "text": [
            "age................. 0.0\n",
            "balance............. 0.0\n",
            "duration............ 0.849306123902405\n",
            "campaign............ 0.0\n",
            "previous............ 0.0\n",
            "default_cat......... 0.0\n",
            "housing_cat......... 0.0\n",
            "loan_cat............ 0.0\n",
            "recent_pdays........ 0.0\n",
            "job_blue-collar..... 0.0\n",
            "job_entrepreneur.... 0.0\n",
            "job_other........... 0.0\n",
            "job_pink-collar..... 0.0\n",
            "job_self-employed... 0.0\n",
            "job_technician...... 0.0\n",
            "job_white-collar.... 0.0\n",
            "marital_divorced.... 0.0\n",
            "marital_married..... 0.0\n",
            "marital_single...... 0.0\n",
            "education_primary... 0.0\n",
            "education_secondary. 0.0\n",
            "education_tertiary.. 0.0\n",
            "education_unknown... 0.0\n",
            "poutcome_failure.... 0.0\n",
            "poutcome_success.... 0.15069387609759496\n",
            "poutcome_unknown.... 0.0\n"
          ],
          "name": "stdout"
        }
      ]
    },
    {
      "cell_type": "code",
      "metadata": {
        "colab": {
          "base_uri": "https://localhost:8080/"
        },
        "id": "OCgSRnWIndc_",
        "outputId": "cc7d4e23-94ca-4fdd-897a-6054ad7f110a"
      },
      "source": [
        "print(\"Mean duration   : \", data_drop_deposite.duration.mean())\n",
        "print(\"Maximun duration: \", data_drop_deposite.duration.max())\n",
        "print(\"Minimum duration: \", data_drop_deposite.duration.min())"
      ],
      "execution_count": null,
      "outputs": [
        {
          "output_type": "stream",
          "text": [
            "Mean duration   :  371.99381831213043\n",
            "Maximun duration:  3881\n",
            "Minimum duration:  2\n"
          ],
          "name": "stdout"
        }
      ]
    },
    {
      "cell_type": "code",
      "metadata": {
        "colab": {
          "base_uri": "https://localhost:8080/"
        },
        "id": "9KHr-XRbn6pN",
        "outputId": "5b3c0776-823f-4748-ff51-e2a533374e62"
      },
      "source": [
        "# Predict: Successful deposite with a call duration = 371 sec\n",
        "\n",
        "print(dt2.predict_proba(np.array([0, 0, 371, 0, 0, 0,0,0,0,0,0,0,0,0,0,0,0,0,0,0,0,0,0,0,1,0]).reshape(1, -1)))\n",
        "print(dt2.predict(np.array([0, 0, 371, 0, 0, 0,0,0,0,0,0,0,0,0,0,0,0,0,0,0,0,0,0,0,1,0]).reshape(1, -1)))"
      ],
      "execution_count": null,
      "outputs": [
        {
          "output_type": "stream",
          "text": [
            "[[0.48515568 0.51484432]]\n",
            "[1]\n"
          ],
          "name": "stdout"
        }
      ]
    },
    {
      "cell_type": "code",
      "metadata": {
        "colab": {
          "base_uri": "https://localhost:8080/"
        },
        "id": "r-JZruSFoJ2e",
        "outputId": "09a0730d-ca47-4570-dc91-5d6d528d1cf8"
      },
      "source": [
        "# Predict: Successful deposite with a maximun call duration = 3881 sec\n",
        "\n",
        "print(dt2.predict_proba(np.array([0, 0, 3881, 0, 0, 0,0,0,0,0,0,0,0,0,0,0,0,0,0,0,0,0,0,0,1,0]).reshape(1, -1)))\n",
        "print(dt2.predict(np.array([0, 0, 3881, 0, 0, 0,0,0,0,0,0,0,0,0,0,0,0,0,0,0,0,0,0,0,1,0]).reshape(1, -1)))"
      ],
      "execution_count": null,
      "outputs": [
        {
          "output_type": "stream",
          "text": [
            "[[0.19295499 0.80704501]]\n",
            "[1]\n"
          ],
          "name": "stdout"
        }
      ]
    },
    {
      "cell_type": "code",
      "metadata": {
        "colab": {
          "base_uri": "https://localhost:8080/"
        },
        "id": "vTjW58NRoK6N",
        "outputId": "eb1099d8-d065-48c8-b3a7-aad623bd320e"
      },
      "source": [
        "# Make predictions on the test set\n",
        "preds = dt2.predict(data_test)\n",
        "\n",
        "# Calculate accuracy\n",
        "print(\"\\nAccuracy score: \\n{}\".format(metrics.accuracy_score(label_test, preds)))\n",
        "\n",
        "# Make predictions on the test set using predict_proba\n",
        "probs = dt2.predict_proba(data_test)[:,1]\n",
        "\n",
        "# Calculate the AUC metric\n",
        "print(\"\\nArea Under Curve: \\n{}\".format(metrics.roc_auc_score(label_test, probs)))"
      ],
      "execution_count": null,
      "outputs": [
        {
          "output_type": "stream",
          "text": [
            "\n",
            "Accuracy score: \n",
            "0.7268248992386923\n",
            "\n",
            "Area Under Curve: \n",
            "0.7880265888143609\n"
          ],
          "name": "stdout"
        }
      ]
    },
    {
      "cell_type": "code",
      "metadata": {
        "colab": {
          "base_uri": "https://localhost:8080/"
        },
        "id": "tZhfr2DdoYcK",
        "outputId": "836e3408-c6ea-4241-b59d-716375d9116b"
      },
      "source": [
        "print('{:10} {:20} {:20}'.format('depth', 'Training score','Testing score'))\n",
        "print('{:10} {:20} {:20}'.format('-----', '--------------','-------------'))\n",
        "print('{:1} {:>25} {:>20}'.format(2, dt2_score_train, dt2_score_test))\n",
        "print('{:1} {:>25} {:>20}'.format(3, dt3_score_train, dt3_score_test))\n",
        "print('{:1} {:>25} {:>20}'.format(4, dt4_score_train, dt4_score_test))\n",
        "print('{:1} {:>25} {:>20}'.format(6, dt6_score_train, dt6_score_test))\n",
        "print('{:1} {:>23} {:>20}'.format(\"max\", dt1_score_train, dt1_score_test))"
      ],
      "execution_count": null,
      "outputs": [
        {
          "output_type": "stream",
          "text": [
            "depth      Training score       Testing score       \n",
            "-----      --------------       -------------       \n",
            "2        0.7285250307985217   0.7268248992386923\n",
            "3         0.770411020271027   0.7572772055530677\n",
            "4        0.7885541494008288    0.774294670846395\n",
            "6        0.8080412140217269   0.7796686072548141\n",
            "max                     1.0   0.7335423197492164\n"
          ],
          "name": "stdout"
        }
      ]
    }
  ]
}